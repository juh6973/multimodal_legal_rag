{
 "cells": [
  {
   "cell_type": "markdown",
   "metadata": {},
   "source": [
    "# Text embedding pipeline"
   ]
  },
  {
   "cell_type": "markdown",
   "metadata": {},
   "source": [
    "## Import libraries"
   ]
  },
  {
   "cell_type": "code",
   "execution_count": 1,
   "metadata": {},
   "outputs": [],
   "source": [
    "from datasets import load_dataset, concatenate_datasets\n",
    "import nltk"
   ]
  },
  {
   "cell_type": "markdown",
   "metadata": {},
   "source": [
    "## Data\n",
    "Read the datasets"
   ]
  },
  {
   "cell_type": "markdown",
   "metadata": {},
   "source": [
    "### Pile of law\n",
    "A curated large corpus of legal and administrative data (text).\n",
    "\n",
    "**Best Instances for RAG**:\n",
    "These datasets contain authoritative, structured, and extensively reasoned legal materials directly suited to RAG systems:\n",
    "- courtListener_opinions: Official U.S. court opinions, clearly structured arguments, extensive references to statutes, regulations, and precedents.\n",
    "- scotus_filings: High-quality legal argumentation and reasoning by litigants before the Supreme Court. Rich citation networks, clear structure, excellent for retrieval of authoritative precedents."
   ]
  },
  {
   "cell_type": "code",
   "execution_count": 2,
   "metadata": {},
   "outputs": [
    {
     "name": "stderr",
     "output_type": "stream",
     "text": [
      "Loading Dataset Infos from /home/raati/.cache/huggingface/modules/datasets_modules/datasets/pile-of-law--pile-of-law/c1090502f95031ebfad49ede680394da5532909fa46b7a0452be8cddecc9fa60\n",
      "Loading Dataset Infos from /home/raati/.cache/huggingface/modules/datasets_modules/datasets/pile-of-law--pile-of-law/c1090502f95031ebfad49ede680394da5532909fa46b7a0452be8cddecc9fa60\n"
     ]
    }
   ],
   "source": [
    "n_sample = 10000\n",
    "courtlistener_opinions = load_dataset(\"pile-of-law/pile-of-law\", \"courtlistener_opinions\", split=\"train\", streaming=True).take(n_sample)\n",
    "scotus_filings = load_dataset(\"pile-of-law/pile-of-law\", \"scotus_filings\", split=\"train\", streaming=True).take(n_sample)"
   ]
  },
  {
   "cell_type": "markdown",
   "metadata": {},
   "source": [
    "### Project Oyez\n",
    "Audio dataset of SCOTUS oral arguments transcribed into text with OpenAI Whisper"
   ]
  },
  {
   "cell_type": "code",
   "execution_count": 3,
   "metadata": {},
   "outputs": [
    {
     "name": "stderr",
     "output_type": "stream",
     "text": [
      "Overwrite dataset info from restored data version if exists.\n",
      "Loading Dataset info from /home/raati/.cache/huggingface/datasets/Juh6973___project_oyez_oral_arguments_2000-2024/default/0.0.0/e34cb3b6656734dbf42311585865c4d2f6345ed4\n",
      "Found cached dataset project_oyez_oral_arguments_2000-2024 (/home/raati/.cache/huggingface/datasets/Juh6973___project_oyez_oral_arguments_2000-2024/default/0.0.0/e34cb3b6656734dbf42311585865c4d2f6345ed4)\n",
      "Loading Dataset info from /home/raati/.cache/huggingface/datasets/Juh6973___project_oyez_oral_arguments_2000-2024/default/0.0.0/e34cb3b6656734dbf42311585865c4d2f6345ed4\n"
     ]
    }
   ],
   "source": [
    "project_oyez = load_dataset(\"Juh6973/project_oyez_oral_arguments_2000-2024\")"
   ]
  },
  {
   "cell_type": "markdown",
   "metadata": {},
   "source": [
    "Make an extra dataset out of the case key components"
   ]
  },
  {
   "cell_type": "code",
   "execution_count": 4,
   "metadata": {},
   "outputs": [
    {
     "name": "stderr",
     "output_type": "stream",
     "text": [
      "Loading cached processed dataset at /home/raati/.cache/huggingface/datasets/Juh6973___project_oyez_oral_arguments_2000-2024/default/0.0.0/e34cb3b6656734dbf42311585865c4d2f6345ed4/cache-89b200791f12feb1.arrow\n"
     ]
    }
   ],
   "source": [
    "def create_document(example):\n",
    "    facts = (example['facts_of_the_case'] or '').strip()\n",
    "    question = (example['question'] or '').strip()\n",
    "    conclusion = (example['conclusion'] or '').strip()\n",
    "\n",
    "    example[\"document\"] = f\"Facts: {facts}\\nQuestion: {question}\\nConclusion: {conclusion}\"\n",
    "    return example\n",
    "\n",
    "scotus_case_concise = project_oyez.map(create_document)\n",
    "scotus_case_concise = scotus_case_concise.remove_columns(['facts_of_the_case', 'question', 'conclusion', 'audio_links', 'oral_arguments', '__index_level_0__'])"
   ]
  },
  {
   "cell_type": "markdown",
   "metadata": {},
   "source": [
    "### Harvard Caselaw\n",
    "A dataset of scanned PDFs converted into text with Google's Tesseract OCR model"
   ]
  },
  {
   "cell_type": "code",
   "execution_count": 5,
   "metadata": {},
   "outputs": [
    {
     "name": "stderr",
     "output_type": "stream",
     "text": [
      "Overwrite dataset info from restored data version if exists.\n",
      "Loading Dataset info from /home/raati/.cache/huggingface/datasets/Juh6973___caselaw_latest_volumes_by_state/default/0.0.0/130a8e46ab5ea41e0d77e113e5146a621c3d46eb\n",
      "Found cached dataset caselaw_latest_volumes_by_state (/home/raati/.cache/huggingface/datasets/Juh6973___caselaw_latest_volumes_by_state/default/0.0.0/130a8e46ab5ea41e0d77e113e5146a621c3d46eb)\n",
      "Loading Dataset info from /home/raati/.cache/huggingface/datasets/Juh6973___caselaw_latest_volumes_by_state/default/0.0.0/130a8e46ab5ea41e0d77e113e5146a621c3d46eb\n"
     ]
    }
   ],
   "source": [
    "harvard_caselaw = load_dataset(\"Juh6973/caselaw_latest_volumes_by_state\")"
   ]
  },
  {
   "cell_type": "markdown",
   "metadata": {},
   "source": [
    "## Preprocessing"
   ]
  },
  {
   "cell_type": "markdown",
   "metadata": {},
   "source": [
    "Unify the data schemas"
   ]
  },
  {
   "cell_type": "code",
   "execution_count": 6,
   "metadata": {},
   "outputs": [
    {
     "name": "stdout",
     "output_type": "stream",
     "text": [
      "IterableDataset({\n",
      "    features: ['text', 'created_timestamp', 'downloaded_timestamp', 'url'],\n",
      "    num_shards: 16\n",
      "})\n",
      "IterableDataset({\n",
      "    features: ['text', 'created_timestamp', 'downloaded_timestamp', 'url'],\n",
      "    num_shards: 1\n",
      "})\n",
      "DatasetDict({\n",
      "    train: Dataset({\n",
      "        features: ['id', 'name', 'description', 'document'],\n",
      "        num_rows: 1693\n",
      "    })\n",
      "})\n",
      "DatasetDict({\n",
      "    train: Dataset({\n",
      "        features: ['state', 'volume_number', 'pdf_url', 'term', 'jurisdictions', 'text'],\n",
      "        num_rows: 50\n",
      "    })\n",
      "})\n",
      "DatasetDict({\n",
      "    train: Dataset({\n",
      "        features: ['id', 'name', 'facts_of_the_case', 'question', 'conclusion', 'description', 'audio_links', 'oral_arguments', '__index_level_0__'],\n",
      "        num_rows: 1693\n",
      "    })\n",
      "})\n"
     ]
    }
   ],
   "source": [
    "print(courtlistener_opinions)\n",
    "print(scotus_filings)\n",
    "print(scotus_case_concise)\n",
    "print(harvard_caselaw)\n",
    "print(project_oyez)\n"
   ]
  },
  {
   "cell_type": "code",
   "execution_count": 8,
   "metadata": {},
   "outputs": [
    {
     "data": {
      "text/plain": [
       "{'id': 54856,\n",
       " 'name': 'United States v. Mead Corporation',\n",
       " 'facts_of_the_case': 'Under the Harmonized Tariff Schedule of the United States, the United States Customs Service is authorized to classify and fix the rate of duty on imports under rules and regulations issued by the Secretary of the Treasury. Under the Secretary\\'s regulations, any port-of-entry Customs office and the Customs Headquarters Office may issue \"ruling letters\" setting tariff classifications for particular imports. The Mead Corporation\\'s imported \"day planners,\" were classified as duty-free until the Customs Headquarters issued a ruling letter classifying them as bound diaries subject to tariff. Subsequently, Mead filed suit in the Court of International Trade. The court granted the Government summary judgment. In reversing, the Court of Appeals found that ruling letters should not be treated like Customs regulations, which receive the highest level of deference, because they are not preceded by notice and comment as under the Administrative Procedure Act, do not carry the force of law, and are not intended to clarify importers\\'s rights and obligations beyond the specific case. The court gave no deference at all to the ruling letter at issue.\\n',\n",
       " 'question': 'Does a tariff classification ruling by the United States Customs Service deserve judicial deference?\\n',\n",
       " 'conclusion': 'No. In an 8-1 opinion delivered by Justice David H. Souter, the Court held that the \"administrative implementation of a particular statutory provision qualifies for [the greatest level of deference accorded under Chevron U.S.A. Inc. v. Natural Resources Defense Council] when it appears that Congress delegated authority to the agency generally to make rules carrying the force of law, and that the agency interpretation claiming deference was promulgated in the exercise of that authority.\" Justice Souter wrote that \"a tariff classification has no claim to judicial deference under Chevron, there being no indication that Congress intended such a ruling to carry the force of law, but we hold that under Skidmore v. Swift &amp; Co., the ruling is eligible to claim respect according to its persuasiveness.\"\\n',\n",
       " 'description': None,\n",
       " 'audio_links': \"['https://api.oyez.org/case_media/oral_argument_audio/23122']\",\n",
       " 'oral_arguments': \"We'll hear argument now in Number 99-1434, the United States v. Mead Corporation.\\nMr. Jones.\\nMr. Chief Justice and may it please the Court:\\nThe harmonized tariff schedule employs more than 9,000 individual categories and more than half-a-million words to classify every conceivable article of commerce for tariff purposes.\\nThis massive document was drafted initially by an international commission, and in 1988 it was enacted in its entirety as a law of the United States.\\nTwo terms ago in the Haggar case this Court held that courts should defer to the reasonable interpretive regulations adopted by the customs service to implement these complex tariff provisions.\\nIn the present case, however, the Federal Circuit held that it would give no weight whatever to the interpretive rulings adopted by the customs service to apply the tariff provisions in specific situations under the very same statutory provisions.\\nThe court, having concluded it would give no deference to the agency rulings, then held that the particular item involved in this case, known as a date planner, would not constitute a bound diary within the specific meaning of the tariff provision we have here before us.\\nIn our view, the court's method of analysis and its ultimate classification determination are both incorrect.\\nIn enacting a harmonized tariff schedule, Congress specified that... its understanding and intent that the customs service would be responsible for interpreting and applying these provisions, and for that purpose Congress gave broad and varied types of interpretive authority to the agency.\\nIn particular, in 19 U.S.C. 1502, Congress provided that the agency could adopt rules and regulations for the classifications of goods under the tariff schedules, and it was under that provision that this Court applied Chevron and Haggar to say that reasonable interpretations of ambiguous provisions set forth in regulations should be applied by the courts.\\nNow, Congress understood, however, that the regulations alone would not be sufficient to address the infinite myriad of small interpretive problems that arise under this kind of tariff legislation, and so Congress specified and gave authority to the agency to adopt binding interpretive rules for the purpose of applying the statute in these discrete situations.\\nMr. Jones, there is kind of a curious feature.\\nAs I understand it, if a case on a tariff ruling were to go to the Court of International Trade--\\nYes.\\n--as I understand it, it engages in de novo review of the classification rulings?\\nI think the... we have used that expressing in describing it--\\nYes.\\n--but as the Court pointed out in Haggar, and as we have argued in these two cases, what really happens is there is a de novo fact-finding on the record made in the Court of International Trade.\\nDo you think that court affords some kind of deference to the views of the customs service, and would it be some kind of deference to the ruling such as we have here?\\nWell, Haggar also pointed out that what the court does is, in determining what the law is that it applies these facts to, it looks to the agency's interpretations, and we think it should look to the agency's rulings.\\nThat's--\\nAnd you think that's clear?\\n--Yes.\\nAnd what kind of deference to do they give it?\\nIs it Chevron, or something less--\\nWell, what they have--\\n--such as so-called Skidmore, and what are you urging us is the proper rule?\\n--Our... what we are urging you is that it is the deference that the Court described in Chevron, that is that you... that the Court is to defer to the reasonable interpretations set forth in these binding rulings, and what... in the NationsBank v. Variable Annuity case the Court described these as a deliberative conclusions set forth in the agency's interpretations.\\nBut not adopted after notice and comment, and so is there some lesser kind of deference, such as suggested in the Skidmore case?\\nNot in this context.\\nI mean, let me point out that when we're talking about interpretive rulings they are routinely initiated by the importer themselves.\\nThe importer has ample opportunity to make comments on how they think this procedure should be... how that statute should be interpreted, and when the agency... if the agency adopts that interpretation and then some other importer doesn't agree and they want to ask for a different ruling, they can submit and request an interpretive ruling, and that's what's--\\nHow does this differ from the Labor Department ruling in Christiansen, which we said was not entitled to Chevron deference?\\n--In Christiansen the Court said that there was an informal opinion stated in a format that Congress had not provided for official interpretations.\\nHere, we have a formal provision of Congress directing the agency to make these kinds of interpretive determinations and to make them in a binding way.\\nIt was dictum in Christiansen anyway, wasn't it?\\nDidn't the Court find that it wasn't a reasonable interpretation?\\nI believe that's correct.\\nThe Court concluded that it was not, in the words of Skidmore, entitled to any consideration because it wasn't persuasive, but I... clearly the Court was of the view that it was not a reasonable interpretation, and--\\nMr. Jones, could we just back up a bit?\\nYour answer to Justice O'Connor about the Court of International Trade owing some deference--\\n--Yes.\\n--to the customs rulings, as far as I recall, in this very case, although the Court of International Trade upheld the customs classification, there wasn't one word that they said, so we don't know from this case what position the Court of International Trade takes on this question.\\nWell, historically we know the court said that it would defer to reasonable interpretations of the service, but in this... you're very right about the oddity of the specific issue, the way it came up, and we addressed that at the petition stage.\\nWhat happened was that when Haggar was before this Court, the United States did not press the lower court to apply what is now to be called Haggar or Chevron deference because the Federal Circuit had said in Haggar that it would give no weight to customs service interpretations, and so at the time the case was in the Court of International Trade, that court was not asked to give that type of deference to the agency's interpretation--\\nBut the--\\n--because that was the law of the circuit.\\nOnce this Court reversed the circuit ruling in Haggar, this... the Federal Circuit then addressed how the principles of Haggar and Chevron applied.\\n--But that didn't happen until the case was in--\\nIn the Federal Circuit, but I would point out that respondent has agreed, and we think it's clear that the Court of International Trade applied the same definition of bound diary that the ruling sets forth.\\n--May I ask you before we get to the specific ruling, you're asserting that there should be deference equivalent to Chevron deference.\\nYes.\\nAnd yet, as I understand it, there are two features of this that would lead me to hesitate about that.\\nOne is that the vast majority of these rulings, as I understand it, are just you'll classify this, you'll classify that, with no reasons elaborated, and the other is that you don't have one decisionmaker, as you would have, say, for the EPA.\\nInstead, you have decisions that are dispersed among 45 ports of entry.\\nWell, let me address the second point first.\\nI think in Smiley v. Citibank the Court had a similar situation where there was a subsidiary determination that was then reviewed by the headquarters office to result in a final agency determination, which is the process that we've gone through with respect to these rulings, and the Court said, well, that doesn't result in a change of view, it results in a proper application of the agency's ruling process.\\nWith respect to the first point, the respondent says, well, there are 10,000 a year of these kinds of rulings made in the head... in the regional offices.\\nIn fact, we do not claim that there's... we are unaware of any of those rulings in which there would be what the Court, in the opinion you authored for the Court in the Variable Annuity case call the deliberative conclusions.\\nIt is only the deliberative conclusions that set forth the actual interpretations of provisions that the Court can look to to defer to.\\nIt's not simply the result.\\nAnd in most of the simple tariff entry at issue determinations, of course it's a very simplified procedure.\\nIt has to be, because of the volume of transactions at issue, and those kinds of entry-level port determinations are very simple, and the Trade Bar Association brief acknowledges they contain in almost every instance no discussion.\\nThey just contain the sort of a statement that 12 apples come in as apples.\\nCan't you appeal that within the agency?\\nYes, and the agency has--\\nDon't you have to appeal it within the agency before you go to court?\\n--I don't believe you have to.\\nI--\\nYou don't have to?\\n--The agency... it's an election of the importer whether he wants, whether he can ask... he can ask the headquarters for a ruling in the first instance.\\nHe can ask the headquarters to review a field determination.\\nAnd you'd say that any ruling by the headquarters either on review or as an original matter is entitled to Chevron deference.\\nThat is correct.\\nTo the extent--\\nBut not the rulings that come out of the field and are not reviewed.\\n--As a practical matter, that's true, but I would say that either of them would be entitled to deference to the extent they contain deliberative conclusions, and I'm just being finicky about that because as a practical matter the entry-level port determinations don't contain those kinds of--\\nWhy is that?\\nI mean, if it comes out of headquarters it's obviously been considered at a high level within the agency and they say, this is the answer.\\nWhy should--\\n--I think as a practical matter the agency would have no objection to a determination of that type.\\nIt's just, all I'm addressing is the logical basis by which the Court would reach such a determination.\\n--Well, but I mean, if we're going to use that criteria... you see, I thought Chevron was just, if it's an authoritative agency position we defer to it, but if you're going to hang qualifications on that, that is, it has to be an authoritative agency position that is explicated in written opinion, you might as well add the fillips that your brother suggests, which is only those rulings that are the product of formal rulemaking.\\nThe one is as logical to me as the other.\\nWell, the... I'm not... I think what I'm trying to describe and not doing a very good job at it is simply that it's up to what... the ultimate question is what did Congress intend?\\nHow did Congress intend the agency to function?\\nThe best evidence of that is probably the agency's regulations pursuant to the authority that Congress gave the agency to provide for a binding ruling program.\\nThe agency's regulations specify that the port service's rulings are precedential and binding, but they don't go on to say, because it's up to this Court to say, the extent to which those precedential binding determinations are to be given deference by the courts, and all I was trying to say was that it seems to me that when this Court has addressed interpretive rulings in prior cases, like Variable Annuity, PBGC v. LTC, it has looked to the question of whether the... you can look to the interpretation expressed by the agency--\\nWell--\\n--and find in it a reasoned--\\n--Well, you say that Christiansen was not an interpretive ruling?\\n--Not in the sense that we're using that term in this case.\\nWhat Christiansen was was the private correspondence that was sent--\\nWell, private correspondence by the Secretary of Labor, wasn't it?\\n--Well, actually it was sent by the Wage & Hour Division of the Labor Department.\\nOkay, but you wouldn't call that... those people are paid by the Government.\\nRight, but what the... but I think what this... the Court's concern in Christiansen was that there was no evidence that that was an official interpretation of the type that Congress had authorized the agency to use to interpret the statute.\\nHere, we have a statute that expressly tells the agency to make these kinds of binding determinations, and the agency's done it just the way Congress said.\\nWell, could you go back for a second on that to the first question that Justice O'Connor put to you, and she said there's a statute that says, in effect, that the Court of International Trade is to review these things de novo, to which you replied no, it's just reviewing matters of fact.\\nYes.\\nBut my copy of the statute says nothing about matters of fact.\\nWhat it says is, the Court of International Trade shall make its determinations upon the basis of the record before the court.\\nThe importers tell us, the textile importers tell us there's hardly ever a dispute of fact.\\nYou know, this is what it is.\\nEverybody knows that, that almost all these things concern how you apply a tariff or... to the facts and the Customs Trade Bar tells us that if we set down the distinction you want to make between facts and application of the tariff, this whole thing's unworkable, because people would never be able to figure out, or hardly ever, what's going on, which is which.\\nSo that would seem to be a pretty strong argument that Justice O'Connor's initial characterization was right as opposed to the application of these tariffs, and I'd like you to respond to that.\\nThe function of the interpretive binding ruling program is to make the system more workable by providing effective advanced guidance.\\nThey didn't say that was unworkable.\\nWhat they said would be unworkable would be for the Court of International Trade to figure out, you know, is it a question of fact, is it a determination of application of the tariff, et cetera.\\nIt's... this... I believe the Court has already addressed this very point in the Haggar case.\\nChevron deference is about how you decide what the law is.\\nThere are other doctrines, burden of proof, presumption of regularity, that go to about how you decide what facts are and how the facts apply to law.\\nChevron is simply a doctrine about how does a court decide what the law is, and in this case the agency made a determination about legal issues and said what it believed a diary was, for example, or what it believed the law, properly interpreted was, bound for this purpose is.\\nHaving made that legal determination, it's then up to the Court of International Trade to decide whether these facts represent such an item.\\nOf course, the agency's binding rulings state its own view of what the facts are and how they apply to these legal interpretations, but that's what the Court of International Trade has the right to do de novo, to decide whether these facts fit within the legal determination, the legal interpretation that the agency has expressed in the binding ruling.\\nSuppose we were to hold--\\nIt's just like tax cases.\\n--Suppose we were to hold that Chevron deference applies to regulations that are adopted under the EPA with notice and comment, and that this does not qualify, but that this ruling, or this determination gets a Skidmore deference.\\nDo you think that the courts would find that that's a meaningful difference?\\nOh, this is just a Skidmore case and therefore I can rule as follows.\\nIf it had been a Chevron case, I would have to rule--\\nWell, addressing your practical question before I... I do want to respond to your question about how this might be looked at.\\nYour practical question is, does it make a difference.\\nYes, it makes a big difference.\\n--Okay.\\nBecause if we... if you had the sort of sliding scale approach of the Skidmore doctrine, then no one would know until the end of the day what... you know, how much... how effective the agency's interpretation is, and the advantage of the Chevron approach, if you needed to look at it in a practical sense, is that everyone knows at the outset what the effectiveness of the agency's interpretation is.\\nIt's to be upheld if it's reasonable.\\nNow, I would like to point out that this Court has never held, and would have to overrule several cases if it did now, that Chevron deference requires that the agency issue this regulation with notice and comment.\\nThere are cases in which this Court--\\nI understand.\\n--Okay.\\nIn one of your earlier responses, your first response I think to Justice O'Connor, you said, oh, no, Skidmore deference would be inappropriate.\\nAs a fallback position, if we say, no Chevron deference, I assume you would urge some sort of Skidmore--\\nI would assume that if the Court were to conclude that Chevron deference didn't apply it would then conclude Skidmore was an appropriate formula to look at this issue under.\\n--But you say Skidmore is inappropriate in order to urge upon us Chevron--\\nI don't really remember having used that phrasing.\\nWhat I... I think Chevron's analysis is appropriate.\\nThis Court's applied it in other interpretive ruling situations, and only in that sense is Skidmore inappropriate.\\n--Mr. Jones, you said something very quickly, but I wanted to be sure I understood your position about tax rulings, revenue rulings.\\nYes.\\nHow do they compare to customs classifications, and if you could just... probably you made this clear already.\\nYou are not claiming deference for just stamped, this, that.\\nThat's right.\\nIt's only when we have a reasoned decision as we do in this case.\\nOkay.\\nRight.\\nWith respect to revenue rulings, the history on this is sort of interesting, and it'll take me a minute to explain it all.\\nIn United States v. Correll, this Court held that revenue rulings should be upheld when they're reasonable, and the Court emphasized that it was based on the expertise of the agency and the fact, to quote the Court, that it doesn't sit as a committee of revision to perfect the administration of the tax laws.\\nThe Congress told the agency to do that by authorizing it to issue all necessary rules and regs.\\nNow, the tax counsel amici says no, that case was really about a regulation, not about a ruling.\\nWell, that's simply and flatly, clearly wrong.\\nThe regulation they cite had something to do with the procedures as used to make a claim for a deduction.\\nWhen Justice Marshall was Solicitor General, he filed the Government's brief in the Correll case.\\nHis successor, Solicitor General Griswold, filed a reply brief.\\nNeither of those briefs mention any regulation.\\nThey rely just on the revenue ruling of the service and ask the Court to defer to it, which is what Justice Stewart's opinion for the Court said was appropriate.\\nBut that was pre-Chevron, so we don't know--\\nYes.\\n--exactly what they meant by deference.\\nWell, we know exactly what they meant, if we... I mean, reading the opinion it says that the agency's reasonable interpretation should be accepted.\\nIt was a pre-Chevron Chevron case.\\nWell, have we addressed this issue post-Chevron?\\nThat's where it became confusing, and there's a nomenclature shift that occurred that really hasn't been addressed.\\nPrior to the 1960's, there were two kinds of rulings.\\nThere were Treasury decisions issued by the Secretary, and there were Commissioner's rulings that were published in what's called the Cumulative Bulletin.\\nThe Cumulative Bulletin pointed out before 1960 that the Commissioner's rulings were not approved by the Secretary, therefore they weren't binding on the agency.\\nIn 1961, the Commissioner was given interpretive authority in a regulation we've cited in our brief, and that interpretive authority is subject, however, to the approval of the Secretary, and since that time, what are now called Revenue Rules, with a capital R, are issued by the Commissioner with the approval of the Secretary.\\nThey are functionally the same as Treasury decisions were before 1960, and in the cases before 1960 the Court had pointed out Treasury decisions were entitled to substantial deference, and even in Skidmore the Court pointed out they were often decisive.\\nAfter Correll... I'm sorry.\\nAfter Correll and indeed, I think after Chevron, but in any event in that time frame, Justice Marshall wrote an opinion for the Court, bringing this full circle, in which he said that a Treasury decision issued in connection with a customs ruling should be given... should be accepted if it's reasonably... if it's sufficiently reasonable.\\nThat's the way... that's why I pointed out that revenue rulings and Treasury decisions and customs interpretive rulings have followed a path that should lead to the same result.\\nBut here we're... we get back to something you've already talked about, which is a little curious.\\nAs I understand it, the customs maybe issues over 12,000 classification decisions annually, and only some of them involve some kind of legal conclusion, or explanation.\\nRight.\\nAnd you would say it's only the latter that deserve Chevron deference?\\nI would say only to the extent that they contain that kind of deliberative conclusion that the Court--\\nBut not these thousands of rulings that are issued every year.\\n--There isn't an interpretation stated in a ruling of the type they're talking about, which simply says an apple's an apple.\\nMr. Jones, could I ask just one clarifying question?\\nI'm having difficulty drawing the line between what it is the international court has to do de novo and what is entitled to deference, and I thought you said that they're entitled to deference if they're applying... they're deciding whether a particular item fits within the rule, whether a particular document as we have here is a diary or not.\\nWhy isn't that the very thing that's supposed to be decided de novo under what's--\\nBecause to decide that they have to know what a diary is, and that's a legal conclusion.\\nIt's like instructing a jury.\\nThe jury is instructed that a diary means these things, and then the jury decides whether this thing is a diary under that set of definitions.\\nThat's what Haggar said.\\nHaggar said that it's... there's nothing inconsistent with the responsibility of the Court of International Trade to make this de novo--\\n--But isn't that always what the Court of International Trade does, is decide whether the item that is presented... there are no disputing the facts about what the item is, whether it is the particular thing described in the rule?\\nIsn't that what they always do?\\n--But they... to make that second step, they have to know what the law is and all... and what Haggar said and what we think is clear in Chevron cases generally, is that in deciding what the law is the Court should defer to the agency's reasonable interpretations.\\nIt might be that I can make this clearer by focusing on the facts of this case, which would probably be useful in any event.\\nIn this case, the agency said that--\\nMr. Jones, just before you get there, and in this picture of deference based on, among other things, expertise, does the Federal Circuit in the Government's view owe any deference to the Court of International Trade?\\n--I believe the decisions of the Court of International Trade are reviewed like the decisions--\\nOf a district court, and no special credit is given to the specialization of the Court of International Trade?\\n--That's correct.\\nI mean, of course, to the extent that the Court of International Trade makes factual determinations, then its determinations--\\nBut it would be just like a district court?\\n--It would be just like a district court.\\nAre you going to finish your answer to--\\nIn this specific--\\n--and then I have a question.\\n--Okay.\\nIn this specific case, the agency, in our view, reasonably concluded that the definition of a diary, which the agency found from a dictionary to be--\\nWell, I understand that, but what is it that the International Trade... the Court of... was supposed to do in this case?\\nWhat did they have to do de novo, just decide that that document--\\n--They're supposed to decide whether the--\\n--is what that document is?\\n--They're supposed to decide whether the item that has been brought to them--\\nRight.\\n--constitutes a bound diary, and in deciding whether it's a bound diary, they have to know what the law... what that legal definition is of a bound diary, and in deciding that, they're supposed to look to the agency's interpretation, if it's a reasonable one.\\nAnd again, I think I can make this more concrete by pointing out that the... here's the way it worked in this case.\\nThe ruling said that a diary is a book for the keeping of a record of daily events, and that that definition is broad enough to encompass the commercial usage of that term, which is a business diary, which has been commonly employed and, under cases like Stone and Downer, the agency and the courts are supposed to consider in deciding what the terms of the tariff provisions mean.\\nNow, what the court of appeals said was, well, we think that... we want to add two things to that.\\nWe want to say it has to be room for extensive notations, and it has to be retrospective, but the diary definition doesn't say that in the dictionary.\\nThere... you can find alternative dictionary definitions, and the commercial usage is inconsistent with that.\\nMr. Jones--\\nYes.\\n--why wouldn't a judgment that's made in the field, that isn't appealed, but once it gets into court, presumably the agency at a high level decides that this ruling, made out in the field, ought to be defended in court, why doesn't that represent an official agency endorsement of that position made in the field?\\nIt is an official agency position at that point.\\nThe problem I've had in giving an answer that's better on this for your... from your perspective is that I don't under... I think that if you look at the way these decisions are made at ports of entry, and the way they're intended to be made at ports of entry, there is little in the face of that document that gives a reasoned explanation of the agency's interpretation.\\nBy comparison, the headquarters rulings are thorough, they provide a definite description of the text, and internally the agency has advised its regional offices to not include a full discussion of text, and I'm going outside the record, but I have to answer your question, and internally the understanding is that if the issue is complicated enough it will get referred to the headquarters.\\nNow, that doesn't mean that complicated issues aren't resolved at the field office, but it does mean that when the field offices ordinarily determine them it's not with a deliberative explanation.\\nThat... to get that, you go to the headquarters.\\nMr. Jones, I want to get clear on two points about the deference that the agency itself gives to these rulings.\\nMy two questions are these.\\nFirst, with respect to the importer for whom the ruling was given in the first place, is it correct that the Government can always in effect withdraw the ruling as a precedent for future cases simply by telling the importer by letter or otherwise, you can't rely on this prior ruling?\\nNo.\\nMy second question is, would you explain what reliance someone other than the original importer can place on it?\\nWell, the statute and regulations specify that before a ruling that has been issued may be modified or overruled, public notice and comment, an opportunity to comment, has to be given.\\nThat's in 1625(c).\\nOkay, so they can't just withdraw it.\\nThey can't just withdraw it, and even when they change it for a period of 60 days there's an automatic protection of people who are using the old ruling.\\nIf I may reserve the balance of time for my--\\nVery well, Mr. Jones.\\nMr. Coll.\\nAm I pronouncing your name correctly?\\nYou are, sir.\\nMr. Chief Justice, and may it please the Court:\\nI'd like to start by picking up on a question that Justice Souter just asked, and that is, may it be revoked, may it be modified without further proceeding between the customs service and the importer, and at the time that these rulings issued, the answer to that is yes.\\nThere was no notice required.\\nAs the record reflects, in June of 1991 they classified this day planner as a unbound diary, duty free.\\nIn 1993, without notice, without any further proceeding, a letter was received from the customs service saying that that classification had been changed.\\nWith no waiting period?\\nNo.\\nWe--\\nSo that the very day of the notice, it became dutiable?\\n--We had the opportunity, which we took advantage of, which was to get a detrimental reliance letter from the customs service that said to the effect that those imports that were in process we were able to rely on the previous ruling, on the previous classification ruling, but that we could not rely in the future, so that the first revocation allowed us to take those orders that we had in process and bring them in duty free, but thereafter we now had duty attached.\\nNow, is there a different regulatory scheme in effect today?\\nThere is now a notice provision that requires publication in the Customs Bulletin.\\nIs that the one that's set forth in page 3 of the Government's brief?\\nI don't have it by the page, Your Honor, but I believe it is.\\n19 U.S.C. 1625?\\nThat's correct, and its reflected in the... in 19 C.F.R.--\\nBut that was not in force in the case before us?\\n--It was not.\\nIt was not in force at that time.\\nThere was... there's a second notice provision that has been raised by the Government in its brief, and that relates to change in practice, but this was not a change in practice, either, as the courts have defined that particular regulation, so that the importer here received a classification ruling in 1991.\\nIt was revoked in 1993 without further proceeding.\\nNow--\\nNow, with respect... with respect to reliance by someone other than the original importer, as I recall the briefs there was a difference of opinion between you and Mr. Jones on that, and I think his response to you was that the... that someone other than the original importer can rely unless notice is given by the Government.\\nHave you resolved your difference on that?\\n--Well, I think it's probably a matter of practice as much as it is a matter of the interpretation of the rules, or the regulations.\\nUnder 19 C.F.R. 177.9 it sets forth very clearly who may rely on a particular classification ruling.\\nThe importer may rely who has sought the classification ruling on that ruling for those goods in similar circumstances.\\nThat is who may definitely rely.\\nOther importers may rely, may... but they are not certain that it is even in effect any longer because of the way the rule... because of the way the service runs its classification rulings, and it says... and this is where the Solicitor General took me to task, I think, is that there's a second sentence that says, if you want to know what the current ruling is, you can contact us and by the way, send us enough information so we can figure out what it is that may pertain to you, so it is not--\\nSo they... in any case they can get a prospective determination as long as they're on their toes.\\n--I don't think it's a prospective determination.\\nWhat they can get is a current status of how a particular good has been classified for a particular importer at a given point in time.\\nWell, does--\\nWhether--\\n--I should have the reg in front of me and I don't, but does the reg say anything about the reliance that may be placed upon a ruling once the Government has said yes, this ruling is still in effect?\\n--No, I don't believe it does.\\nThe problem here, as I see it, to ask for Chevron deference, which I view as mandatory, controlling weight deference, rather than Skidmore deference--\\nWell, on that point, Mr. Coll, this Court had a holding in NationsBank v. Variable Annuity Life Insurance where we held that a letter ruling by the Comptroller of the Currency warranted Chevron deference.\\nHow is this different?\\n--Well, I would focus on the question in that case as posed by Justice Ginsburg, which said, may or can national banks in the United States sell variable annuities, question mark, and that was... as I understood that question, viewed by this Court, that ruling was now going to be applicable to every national bank in the United States and as I've just discussed--\\nWell, I suppose that we can assume that the customs service made clear that it thought that anything like a filofax here with the little entry spaces on pages in a loose-leaf binder met the definition.\\nApparently that was their idea.\\n--I don't think we can assume that.\\nNo?\\nI don't think we can assume that.\\nThe problem is that by definition of the regulations of the service itself, these are applications of the customs law to the specific facts presented by the importer, and--\\nWell, would you concede that at least the customs has taken the position that a loose-leaf ring binder is bound?\\nI mean, they at least said that, apparently.\\n--For purposes of 4820 I think we can.\\nI don't know--\\nWhat do you mean, of 4820?\\nA statute?\\n--The statute, I'm sorry.\\nThere's a statute--\\nA statute of--\\n--that refers to bound diaries, right?\\n--19 U.S.A. section 4820.\\nOh, but that's all that we're talking about.\\nI mean, that's... in applying that to any other importer, surely you anticipated that the agency would take the same position.\\nThe agency can't say for one importer it... you know, a ring binder is okay, for another importer it isn't.\\nI mean, once they make that ruling, don't you know that the agency has taken that position of law?\\nWell, we don't know that under the particular section of 177.9 of their regulations, because they tell us similar articles, or identical articles or similar circumstances, and therefore they hedge that relative to every importer who comes to a dock--\\nWell, surely it means similar relevant circumstances.\\nYou... they can say, you know, you have blond hair and the other guy had brown hair.\\nYou think that they'd say, not similar circumstances?\\n--I don't know.\\nI'd suspect not, but I don't know.\\nBut what we have here, just to look at the record, we start out in 1991 with an identical... the same product that we had in 1993 and that we had in 1994, when it made it into headquarters and their view changed.\\nAh, but the exact question I think is, I could imagine... it's all hypothetical... being a Member of Congress and if I were asked, do you really want the Comptroller of the Currency to have some binding authority when he writes a letter answering the question that was posed, you'd say, yeah, that's a pretty good idea.\\nHe knows quite a lot about these things.\\nThen similarly, if you were a Member of Congress, you might say, would you want these several thousand customs inspectors to have the authority of whether the word bound does or does not include these ring binders?\\nWell, you might say yeah, they know a lot about it, similar answer.\\nNow, there's a lot of confusion getting to whether you get a firm position, but if you get a firm position at the agency, yes, defer to that.\\nThat's the question.\\nThat's why I thought maybe your stronger point was the statute.\\nWell--\\nAnd I'd like to hear both the answer to that question and something about the statute.\\n--Well, I'd like to go to what Congress may have said with regard to whether or not the customs service should be binding, and we looked to the legislative history in 1979 with regard to de novo review, and that legislative history said, in light of the Zenith Radio case it's precedents suggested that deference should be given to the customs service rulings, that--\\nOn most of these things Congress says nothing.\\nWhat you're trying to do is make sense of some kind of statutory scheme.\\nLooking at the scheme, would it make sense to give the power to make somewhat binding rulings under Chevron to this particular official in this kind of instance under these circumstances.\\nI--\\nSo that's how I'd look at it.\\n--And responding to that question--\\nYes.\\n--I believe the answer is no, that Skidmore deference would be appropriate, but Chevron deference would be inappropriate.\\nTo--\\nI don't understand.\\nWhat is the criterion for just saying we're going to give deference to, you know, formerly adopted regulations?\\nI can understand a criterion that tries to assess whether the agency's view that has been expressed is authoritative, but surely the agency's view on this issue has been authoritatively expressed in this case by the Solicitor General.\\nI mean, we know that the agency believes that this is what the law says.\\nNow, why should we give one sort of deference if the agency tells us that in a regulation with notice and comment and another kind of deference if it comes to us in some other fashion?\\nSo long as it's the agency's authoritative view, what difference should it make?\\n--Well, that question, as I would understand it, starts from the premise that we're going to somehow narrow this field of classification rulings from the 10 to 15,000 that issue each year to some smaller group that purportedly are qualitatively better, certainly quantitatively less, and if that's the case, then I think we also need to not lose sight of the fact that these are mixed conclusions of fact and law, even when articulated.\\nAnd for example, in our particular ruling, the third ruling, the one that I assume the Solicitor General says that the deference to attach... should attach to, not the earlier ones, the last.\\nThere, the... Mr. Durant, who was the fellow who exercised that discretion, that interpretation, and who signed that letter, says that he has reached his interpretation on the basis of factual analysis, ex parte factual analysis, ex parte to anything that this importer had an opportunity to respond to.\\nIt says... this is at 32a of... it begins at the bottom of 31a.\\nIt's 32a in the petition for the writ of certiorari, and it says, the rationale for this determination was based on lexicographic sources as well as extrinsic evidence of how these types of articles are treated in the trade and commerce of the United States.\\nNow, that record was made--\\nMr. Coll, does that get a presumption of deference... of correctness?\\nThat's the other piece of this statute, that this Court of International Trade is supposed to accord decisions of customs a presumption of correctness, is that right, and that's statutory?\\n--That's correct, and it's as to facts, and it's part of the process.\\nI mean, this process--\\nYou're getting into the same problem that we have in discussing this with Mr. Jones, what is fact as opposed to law in these customs classifications?\\n--Exactly.\\nWhat we have here--\\nWell, gee, I don't think that... you say, was based on lexicographic sources.\\nI assume he's talking about dictionaries.\\nNow, I guess you can say it is a question of fact whether dictionaries say this or that.\\nI mean, everything in the world is a question of fact, but when we issue a ruling on a point of law that relies in part on dictionaries, I don't consider that a mixed... a ruling on a mixed question of fact and law, did the dictionary say this and is it accurate that that produces this result.\\n--It's--\\nAnd the other one is extrinsic evidence of how these types of articles are treated in the trade and commerce of the United States.\\nI mean, I don't... you know, if that is a factual question, it is a factual question of the generic type that we usually subsume under the term of judicial notice.\\nI mean, what do people usually think of diaries as?\\nYou can call that a question of fact, if you like, but my goodness, I think that's still a legal determination.\\n--Well, I beg to differ.\\nI think it is a question of fact.\\nThe Government, the... as well as the importer treat it as a question of fact.\\nOn the filing of the action in the Court of International Trade, both parties filed... the... both parties filed affidavits, affidavits relating to the facts, relating to commercial use, relating to commercial jargon as to how these products were described within the trade, and so both sides here treated that portion as being an item of fact.\\nAnd I don't think that it makes much sense, when we talk Chevron deference, we talk about the Haggar case, which says that Haggar stems... that deference stems from the creation of a legal norm, to put to the Court on a mandatory basis deference that has a mixed question of fact, or a mixed conclusion of fact and law, and say to them, now, you may apply whatever that is to what remains of the facts.\\nWell, but that's a different point that you should be arguing, then, not that all these rulings are not entitled to deference, but rather that the ruling in this case is not a ruling purely of law, but it involves factual matters and therefore should get, indeed, de novo review if it went to the Court of International Trade.\\nThat goes to the second question that was certified, which is... and we approach it under Skidmore... does this have persuasive effect, the power to persuade, and we say it has absolutely none for any number of reasons.\\nMr. Coll you were--\\n--Do you accept what Justice Scalia just said... I'm quite curious about that... that, I'd thought the difference between this and Smiley is, here there is a specific statute, and that statue says that the Court of International Trade will make its determinations de novo?\\nNow, the Government says that that word, determinations, means simply matters of fact, not matters of whether, given agreement about the facts, this is a bound or unbound thing for purposes of the tariff.\\nIs that... in other words, do you agree with what... he wasn't saying it particularly, but I mean, do you agree with that characterization, that determinations cover only matters of fact?\\nNo.\\nNo.\\nWhy not?\\nBecause I don't think the one can dissect even this, what the Solicitor General would concede is as elaborate a classification ruling as one normally finds that one can dissect the fact from the law.\\nWell then, do you disagree with Haggar?\\nWell, Haggar--\\nIt sounds to me like you're disagreeing with Haggar in your answer to Justice Breyer.\\n--Haggar is a much different situation, Your Honor.\\nHaggar arose when Congress passed a particular provision of the tariff schedule that left a gap to be filled, and they delegated that filling of the gap, specific gap to the customs service.\\nIt was matters incidental to assembly outside of the United States, and it listed such as, it left obvious gaps for filling.\\nThey went, and on a notice and comment basis, had a regulation promulgated that furthered that definition.\\nI don't view it as interpretive.\\nI view it as legislative, and that's what the customs service did, and this Court found that that created normal law similar to a statute.\\nThat--\\nWhy didn't that constrain or modify or elaborate the term, de novo, in the Court of International Trade's jurisdictional standards, just as much as this case does?\\n--It impacted it in a slightly different fashion.\\nIt impacted it in that there was no interpretation left of the law.\\nthe statute, or the... it... the promulgation of the regulation, notice and comment regulation now told us, this is what is or isn't incidental.\\nNow we had... the question that remained was what had occurred outside of the United States, and did that fall within that language, so that now we were focused, as I understand this Court's direction, on that fact, what was happening outside the United States, and does it fit into that articulated definition in the regulation.\\nMr. Coll, let me approach this from a different vantage point.\\nIf we decide that we do owe Chevron deference to the position taken by the customs service in this case, do you lose?\\nIs that the end of the matter?\\nNo, because--\\nWhy not?\\n--I would take the position that the interpretation at first blush and upon further analysis is unreasonable.\\nDo you think the word bound is open to different interpretations as to what's bound?\\nYes.\\nAnd so is it open at all to the agency to decide that it includes these ring binders as being bound?\\nI mean, that would be one possible interpretation.\\nThat's one possible interpretation, and the question then becomes whether or not--\\nSo I would have thought, then, if you apply Chevron deference that's the end of the case for you.\\n--Well, their interpretation is predicated upon one provision, an explanatory note that isn't applicable at that level of the tariff schedule, which doesn't relate to whether or not things are bound.\\nIt relates to what things are made of.\\nThe schedule, this particular provision, this particular chapter, 4820, relates to paper, and what this explanatory note says, if things come with packaging that has metal, leather, et cetera, they will still be classified as paper that the other substance, the other material will not predominate.\\nEverything here in 4820 has to be held together in some fashion, because the chapter note says that these... this provision does not cover loose sheets, so everything has to be--\\nMr. Coll, there's one piece of this, before we get to the application of it, that I find vastly puzzling.\\nMaybe there's an easy answer to it.\\nYou talked about the provision that says, de novo review, but then you quickly said, and yes, there's a presumption of correctness.\\nThose two seem to be at loggerheads.\\nWhy are they not?\\nYou told me that the facts found by customs get a presumption of correctness.\\nOn the other hand, the facts are gone over de novo.\\n--It's a burden-of-proof issue, Your Honor.\\nIt's a matter that because there's a presumption of correctness, then the burden is slightly different on the plaintiff, the importer, than it might otherwise be, that he has a presumption that is working against him, and it's a burden of proof.\\nIt doesn't relate to deference.\\nBut focusing on chapter 4820 and why this is not appropriate interpretation and would be unreasonable even under Chevron, though we don't believe Chevron applies, the statute is fairly clear.\\nThe statute tells us that there are diaries, and there are similar articles, and then breaks it down further to diaries bound in all these other items that would be similar articles.\\nWell, but I had a little difficulty with your argument there.\\nIf you turn to pages 17 and 18 of your brief, on page 18 you make that argument.\\nYou say, in effect, diaries bound is to be contrasted with other, and one reason that you say that a diary does not fall... one reason that you say that this does not fall within the diary category is that it's not adapted for exhaustive recording of past events.\\nIt's a schedule.\\nBut in the statute itself, which you quote on the preceding page, on 17, there is the term in 4820.10.20, which you quote only with ellipsis, and that term refers to diaries.\\nIt also refers to notebooks and address books, bound, which does not seem to carry the same connotation.\\nThe notebooks and address books don't seem to carry any connotation one way or the other with respect to either recording past events or noting future schedules.\\nIf we don't engage in the ellipsis that you did and we refer to these other examples as having some bearing on what a diary is, your argument is considerably weaker, isn't it?\\nWell, I'm going to have to defer at this point in time to customs practitioners, who tell me that you cannot look in a classification as to this product at those other two, either by way of combination, because that isn't the way the law gets interpreted in combination products that exist elsewhere, so--\\nWell, but I assume that they're not intending to... you know, to exclude the interpretive rule, you know, noscitur a sociis.\\nWe sort of know each term by those associated with it, and if that interpretive canon applies, then there isn't a simple contrast between diaries and others.\\nThere's a contrast between diaries, notebooks, and address books and others, and notebooks and address books and others do not have the kind of connotation that you want us to read so clearly into diary.\\n--Well, I think that we have to start at the top, because that's what the chapter notes tell us.\\nThe chapter notes tell us... and the chapter notes are statutory, and the chapter notes tell us that we have to start at 4820.\\nWe can't start at 4820.10.20, or at 4810.40.\\nWe have to start at the top, and our argument is centered on the fact that it's diaries and similar articles.\\nI understand your point there perfectly well, but by the same token we can't ignore 48... 4820.10.20, either, and it seems to me that as the statute becomes progressively more detailed, it becomes progressively more indicative of what it may have in mind by similar articles, and it seems to me that by the ellipsis as you quote 4810.20 on page 18, you are in effect telling us to ignore whatever interpretive value there might be to considering notebooks and address books, and that does have some interpretive value, because notebooks and address books do not have a connotation of time past, time future, in the sense that your argument assumes.\\nBut we weren't classified as an address book, and we weren't classified as a notebook.\\nWe were classified as a bound diary, and the other two cannot support this classification.\\nThis classification was very simply made and very simply stated.\\nIt doesn't say--\\nSo your point is, we ignore them.\\n--We... yes.\\nIf the Court has no further questions--\\nI... ask you again about the statute that's quoted at page 3 of the Government's brief, which, as I understand it, indicates that if a proposed interpretive ruling modifies an earlier ruling, there has to be publication in the Customs Bulletin.\\n--Correct.\\nNow, that is inapplicable to the case before us?\\nRight.\\nThat was part of what they refer in the Customs Bar as the Mod Act.\\nIt was not in effect at the time that we were... this ruling came down.\\nThere's a second feature out there that relates to--\\nDo you think that this statute would be very important in another case, insofar as whether or not these rulings are... should be accorded Chevron deference because they're very much like a regulation, or do you think both cases, a case arising under this statute and your case, should be dealt with the same?\\n--I think it enhances part of their argument.\\nIt does not enhance their whole case, because I believe that it does not enhance the particular point, which is that these are conclusions of fact and law as to which one cannot dissect neatly those interpretive legal norms that would be required for Chevron deference.\\nBut in terms of process, in terms of notice, in terms of procedural regularity, it certainly is better than receiving a letter in the mail 2 years after you've gotten a classification ruling telling you that the classification ruling no longer is effective.\\nThank you, Mr. Coll.\\nActually, if you have an extra minute, if it's all right I'd like to go back for 1 second on the word determinations.\\nYes.\\nThe Government has also argued, and I wondered about this, I want to... that really we decided in Haggar that that word determinations must refer only to factual and not legal determinations.\\nI'd like to know your response to that.\\nAs I read the Haggar decision, there was an argument made at that time that Haggar, or the class... the regulation at issue in Haggar was not entitled to Chevron deference.\\nIt was not entitled to any deference because of de novo review.\\nWe have a legislative regulation there and as I understand the Court, the Court was trying to explain how those two elements, a statutory regulation that creates a legal norm, would... could still be harmonized with the de novo review feature, and used as an example there that could still be applied to the facts.\\nWe don't have that neat dissection.\\nOne can't surgically pull out the interpretive law from the fact in these types of classification rules.\\nThank you, Mr. Coll.\\nMr. Jones, you have 2 minutes remaining.\\nThank you.\\nI think I have two points.\\nJustice Breyer, as we understand the issue that you've been addressing, the Court expressly confronted and resolved it in the Haggar case.\\nThe Court quoted the same provision of the statute that you're quoting and said that the responsibility of the Court of International Trade to make its determinations on the record before it, meant that it was to assemble the record and make factual determinations and apply those facts to the law, but in... the Court said that deference can be given to the regulations without impairing the authority of the court to make factual determinations and to apply those determinations to the law de novo.\\nAnd what the Court said in Haggar was that the regulations, the interpretive regulations of the agency were part of the law that the Court of International Trade was to apply, which is our position precisely in this case.\\nI believe that... I want to say one more thing about this deliberative conclusion point.\\nNow, the cases that have described, that you look to the deliberative conclusion to find... in the interpretive ruling to decide whether to give deference to the agency's reasonable conclusions, involve rulings in particular.\\nIn Martin v. OSHRC, Occupational Safety & Health Review Commission, the Court applied the same principle of Chevron deference to an agency's citation when the citation had been issued in the... precisely in the format that Congress authorized for interpretive purposes, so I think you may need to look to the nature of the regulatory ruling... rulemaking program to decide, you know, what sort of specificity is required.\\nBut in the context of the customs service rulings, I think as a practical matter you're going to be looking at headquarters rulings that contain the deliberative analysis to find out what the agency's reasonable interpretation is.\\nThank you, Mr. Jones.\\nThe case is submitted.\",\n",
       " '__index_level_0__': 1}"
      ]
     },
     "execution_count": 8,
     "metadata": {},
     "output_type": "execute_result"
    }
   ],
   "source": [
    "project_oyez[\"train\"][0]"
   ]
  },
  {
   "cell_type": "code",
   "execution_count": 11,
   "metadata": {},
   "outputs": [],
   "source": [
    "from datasets import DatasetDict\n",
    "\n",
    "unified_dataset = DatasetDict()\n",
    "# courtlistener_opinions\n",
    "co_filtered = courtlistener_opinions.remove_columns(['created_timestamp', 'downloaded_timestamp'])\n",
    "co_filtered = co_filtered.rename_column('text', 'document')\n",
    "unified_dataset['courtlistener_opinions'] = co_filtered\n",
    "\n",
    "# scotus_filings\n",
    "sf_filtered = scotus_filings.remove_columns(['created_timestamp', 'downloaded_timestamp'])\n",
    "sf_filtered = sf_filtered.rename_column('text', 'document')\n",
    "unified_dataset['scotus_filings'] = sf_filtered\n",
    "\n",
    "# scotus_case_concise\n",
    "unified_dataset['scotus_case_concise'] = scotus_case_concise[\"train\"]\n",
    "\n",
    "\n",
    "# harvard_caselaw\n",
    "harvard_caselaw_filtered = harvard_caselaw.remove_columns(['volume_number'])\n",
    "harvard_caselaw_filtered = harvard_caselaw_filtered.rename_column('text', 'document')\n",
    "harvard_caselaw_filtered = harvard_caselaw_filtered.rename_column('pdf_url', 'url')\n",
    "unified_dataset['harvard_caselaw'] = harvard_caselaw_filtered[\"train\"]\n",
    "\n",
    "# project_oyez\n",
    "project_oyez_filtered = project_oyez.remove_columns(['__index_level_0__', 'audio_links'])\n",
    "project_oyez_filtered = project_oyez_filtered.rename_column('oral_arguments', 'document')\n",
    "unified_dataset['project_oyez'] = project_oyez_filtered[\"train\"]"
   ]
  },
  {
   "cell_type": "code",
   "execution_count": 12,
   "metadata": {},
   "outputs": [
    {
     "data": {
      "text/plain": [
       "DatasetDict({\n",
       "    courtlistener_opinions: IterableDataset({\n",
       "        features: ['document', 'url'],\n",
       "        num_shards: 16\n",
       "    })\n",
       "    scotus_filings: IterableDataset({\n",
       "        features: ['document', 'url'],\n",
       "        num_shards: 1\n",
       "    })\n",
       "    scotus_case_concise: Dataset({\n",
       "        features: ['id', 'name', 'description', 'document'],\n",
       "        num_rows: 1693\n",
       "    })\n",
       "    harvard_caselaw: Dataset({\n",
       "        features: ['state', 'url', 'term', 'jurisdictions', 'document'],\n",
       "        num_rows: 50\n",
       "    })\n",
       "    project_oyez: Dataset({\n",
       "        features: ['id', 'name', 'facts_of_the_case', 'question', 'conclusion', 'description', 'document'],\n",
       "        num_rows: 1693\n",
       "    })\n",
       "})"
      ]
     },
     "execution_count": 12,
     "metadata": {},
     "output_type": "execute_result"
    }
   ],
   "source": [
    "unified_dataset"
   ]
  },
  {
   "cell_type": "markdown",
   "metadata": {},
   "source": [
    "Split the documents into chunks"
   ]
  },
  {
   "cell_type": "code",
   "execution_count": null,
   "metadata": {},
   "outputs": [],
   "source": [
    "import os\n",
    "import re\n",
    "import chromadb\n",
    "from chromadb.config import Settings\n",
    "from langchain_chroma import Chroma\n",
    "from langchain_core.documents import Document\n",
    "from langchain_community.embeddings.sentence_transformer import (\n",
    "    SentenceTransformerEmbeddings,\n",
    ")\n",
    "from langchain_huggingface import HuggingFaceEmbeddings\n",
    "from langchain_text_splitters import RecursiveCharacterTextSplitter\n",
    "from uuid import uuid4"
   ]
  },
  {
   "cell_type": "markdown",
   "metadata": {},
   "source": [
    "Create or get vector database"
   ]
  },
  {
   "cell_type": "code",
   "execution_count": 17,
   "metadata": {},
   "outputs": [],
   "source": [
    "# persist directory\n",
    "persist_directory = \"./database\"\n",
    "collection_name = \"full_collection\"\n",
    "\n",
    "embedding_function = HuggingFaceEmbeddings(model_name=\"intfloat/e5-large-v2\")\n",
    "\n",
    "vector_store = Chroma(\n",
    "    collection_name=collection_name,\n",
    "    embedding_function=embedding_function,\n",
    "    persist_directory=persist_directory,  # Where to save data locally, remove if not necessary\n",
    ")"
   ]
  },
  {
   "cell_type": "markdown",
   "metadata": {},
   "source": [
    "Remove special characters with regex"
   ]
  },
  {
   "cell_type": "code",
   "execution_count": 18,
   "metadata": {},
   "outputs": [],
   "source": [
    "# Clean function\n",
    "\n",
    "def clean_text(text):\n",
    "    text = re.sub(r'\\b[x][0-9a-fA-F]+\\b', '', text)\n",
    "    # Step 1: Replace escaped newlines with actual newlines\n",
    "    text = text.replace('\\\\n', '\\n')\n",
    "    \n",
    "    # Step 3: Normalize paragraph breaks (multiple newlines become single newlines)\n",
    "    text = re.sub(r'\\n{2,}', '\\n\\n', text)\n",
    "    # Step 4: Remove excessive whitespace while preserving paragraph structure\n",
    "    text = re.sub(r' {2,}', ' ', text)\n",
    "    \n",
    "    # Step 5: Clean up any remaining special characters but preserve paragraphs\n",
    "    text = re.sub(r'[^\\w\\s.,;:?!()\"\\'-]', ' ', text)\n",
    "    \n",
    "    # Step 6: Clean up any double spaces created during cleaning\n",
    "    text = re.sub(r' {2,}', ' ', text)\n",
    "    \n",
    "    # Step 7: Trim leading/trailing whitespace\n",
    "    text = text.strip()\n",
    "    \n",
    "    return text"
   ]
  },
  {
   "cell_type": "markdown",
   "metadata": {},
   "source": [
    "Create Document objects"
   ]
  },
  {
   "cell_type": "code",
   "execution_count": 19,
   "metadata": {},
   "outputs": [
    {
     "name": "stdout",
     "output_type": "stream",
     "text": [
      "Processing dataset: courtlistener_opinions\n",
      "Error reading file: https://huggingface.co/datasets/pile-of-law/pile-of-law/resolve/main/data/train.courtlisteneropinions.0.jsonl.xz\n",
      "Processing dataset: scotus_filings\n",
      "Error reading file: https://huggingface.co/datasets/pile-of-law/pile-of-law/resolve/main/data/train.scotus_docket_entries.jsonl.xz\n",
      "Processing dataset: scotus_case_concise\n",
      "Processing dataset: harvard_caselaw\n",
      "Processing dataset: project_oyez\n",
      "Number of documents: 23404\n",
      "Number of documents with None values: 32\n"
     ]
    }
   ],
   "source": [
    "# Iterate over the datasets and add them to the Chroma database\n",
    "\n",
    "documents = []\n",
    "nonetype_documents = []\n",
    "\n",
    "for dataset_name, dataset in unified_dataset.items():\n",
    "    print(f\"Processing dataset: {dataset_name}\")\n",
    "    for example in dataset:\n",
    "\n",
    "        # allow description with no text\n",
    "        if \"description\" in example and example[\"description\"] is None:\n",
    "            example[\"description\"] = \"\"\n",
    "\n",
    "        # Remove data with None values\n",
    "        if None in example.values():\n",
    "            nonetype_documents.append(example)\n",
    "            continue\n",
    "\n",
    "\n",
    "        # Extract the text and metadata from the example\n",
    "        text = example.pop(\"document\")\n",
    "        metadata = example\n",
    "        metadata[\"dataset\"] = dataset_name\n",
    "        \n",
    "        if dataset_name == \"scotus_filings\":\n",
    "            text = clean_text(text)\n",
    "\n",
    "        # Create a document object\n",
    "        document = Document(\n",
    "            page_content=text,\n",
    "            metadata=metadata,\n",
    "        )\n",
    "        \n",
    "        documents.append(document)\n",
    "        \n",
    "\n",
    "print(f\"Number of documents: {len(documents)}\")\n",
    "print(f\"Number of documents with None values: {len(nonetype_documents)}\")"
   ]
  },
  {
   "cell_type": "code",
   "execution_count": 20,
   "metadata": {},
   "outputs": [
    {
     "name": "stdout",
     "output_type": "stream",
     "text": [
      "Adding 23404 documents to the Chroma database\n"
     ]
    }
   ],
   "source": [
    "print(f\"Adding {len(documents)} documents to the Chroma database\")"
   ]
  },
  {
   "cell_type": "markdown",
   "metadata": {},
   "source": [
    "View first document"
   ]
  },
  {
   "cell_type": "code",
   "execution_count": 21,
   "metadata": {},
   "outputs": [
    {
     "name": "stdout",
     "output_type": "stream",
     "text": [
      "page_content='—Appeal by the defendant from a judgment of the Supreme Court, Queens County (Brennan, J.), rendered December 1, 1983, adjudicating him a youthful offender, upon his plea of guilty to robbery in the first degree (two counts), robbery in the second degree, and assault in the first degree (two counts), and imposing sentence.\n",
      "Ordered that the judgment is affirmed.\n",
      "We have reviewed the record and agree with the defendant’s assigned counsel that there are no meritorious issues which could be raised on appeal. Counsel’s application for leave to withdraw as counsel is granted (see, Anders v Califor*580nia, 386 US 738; People v Paige, 54 AD2d 631; cf., People v Gonzalez, 47 NY2d 606). Mollen, P. J., Bracken, Rubin and Spatt, JJ., concur.' metadata={'url': 'https://www.courtlistener.com/api/rest/v3/opinions/5901619/', 'dataset': 'courtlistener_opinions'}\n"
     ]
    }
   ],
   "source": [
    "print(documents[0])"
   ]
  },
  {
   "cell_type": "code",
   "execution_count": 22,
   "metadata": {},
   "outputs": [],
   "source": [
    "# harward_caselaw example\n",
    "#print(documents[21700])"
   ]
  },
  {
   "cell_type": "markdown",
   "metadata": {},
   "source": [
    "Chunk documents"
   ]
  },
  {
   "cell_type": "code",
   "execution_count": 23,
   "metadata": {},
   "outputs": [
    {
     "name": "stdout",
     "output_type": "stream",
     "text": [
      "Split 23404 documents into 702276 chunks\n"
     ]
    }
   ],
   "source": [
    "text_splitter = RecursiveCharacterTextSplitter(chunk_size=1000, chunk_overlap=200)\n",
    "chunked_documents = text_splitter.split_documents(documents)\n",
    "\n",
    "print(f\"Split {len(documents)} documents into {len(chunked_documents)} chunks\")"
   ]
  },
  {
   "cell_type": "markdown",
   "metadata": {},
   "source": [
    "Remove short chunks, which length are below 50."
   ]
  },
  {
   "cell_type": "code",
   "execution_count": null,
   "metadata": {},
   "outputs": [
    {
     "name": "stdout",
     "output_type": "stream",
     "text": [
      "Number of short documents: 7050\n"
     ]
    }
   ],
   "source": [
    "# get documents under 100 characters and above 50 characters\n",
    "short_documents = []\n",
    "for doc in chunked_documents:\n",
    "    if len(doc.page_content) > 50 and len(doc.page_content) < 100:\n",
    "        short_documents.append(doc)\n",
    "\n",
    "print(f\"Number of short documents: {len(short_documents)}\")"
   ]
  },
  {
   "cell_type": "code",
   "execution_count": 26,
   "metadata": {},
   "outputs": [],
   "source": [
    "# remove short documents\n",
    "chunked_documents = [doc for doc in chunked_documents if len(doc.page_content) > 50]"
   ]
  },
  {
   "cell_type": "markdown",
   "metadata": {},
   "source": [
    "## Upload to chromadb"
   ]
  },
  {
   "cell_type": "markdown",
   "metadata": {},
   "source": [
    "Shuffle documents (if setting limit to documents)"
   ]
  },
  {
   "cell_type": "code",
   "execution_count": 28,
   "metadata": {},
   "outputs": [],
   "source": [
    "# shuffle the documents\n",
    "import random\n",
    "random.shuffle(chunked_documents)"
   ]
  },
  {
   "cell_type": "code",
   "execution_count": 29,
   "metadata": {},
   "outputs": [
    {
     "data": {
      "text/plain": [
       "Document(metadata={'url': 'http://www.supremecourt.gov/DocketPDF/21/21-78/184083/20210716110934046_210160a%20Appendix%20for%20efiling.pdf', 'dataset': 'scotus_filings'}, page_content='m o ot n e s s d o ctri n e i s si m pl y\\n\\ni n a p pli c a bl e i n t hi s c a s e b e c a u s e t h e a p p e al d o e s n ot dir e ctl y c o n c er n t h e\\nb a n kr u pt c y c o urt s or d er c o nfir mi n g\\n\\nWi n d str e a m s pl a n of r e or g a ni z ati o n.\\n\\nWe\\n\\ndi s a gr e e.\\nO ur pr e c e d e nt i s cl e ar t h at e q uit a bl e m o ot n e s s c a n b e a p pli e d x9ci n a r a n g e of\\nc o nt e xt s , i n cl u di n g a p p e al s i n v ol vi n g all m a n n er of b a n kr u pt c y c o urt or d er s.\\nB GI , 7 7 2 F. 3 d at 1 0 9 n. 1 2 ( c oll e cti n g c a s e s). I n f a ct, C h a te a u g a y it s elf a p pli e d t h e\\nd o ctri n e t o di s mi s s a cr e dit or s c h all en g e t o v ari o u s or d er s, s e v er al of w hi c h w er e\\ni n d e p e n d e nt of t h e b a n kr u pt c y c o urt s d e ci si o n t o c o nfir m t h e r e or g a ni z ati o n\\npl a n.\\n\\nSee 1 0 F. 3 d at 9 4 8.\\n\\nG L M s ar g u m e nt t h er ef or e h a s n o b a si s i n l a w.')"
      ]
     },
     "execution_count": 29,
     "metadata": {},
     "output_type": "execute_result"
    }
   ],
   "source": [
    "chunked_documents[0]"
   ]
  },
  {
   "cell_type": "markdown",
   "metadata": {},
   "source": [
    "Init uuids for documents"
   ]
  },
  {
   "cell_type": "code",
   "execution_count": 30,
   "metadata": {},
   "outputs": [
    {
     "name": "stdout",
     "output_type": "stream",
     "text": [
      "690719\n"
     ]
    }
   ],
   "source": [
    "uuids = [str(uuid4()) for _ in range(len(chunked_documents))]\n",
    "print(len(uuids))"
   ]
  },
  {
   "cell_type": "markdown",
   "metadata": {},
   "source": [
    "Clear cache"
   ]
  },
  {
   "cell_type": "code",
   "execution_count": 31,
   "metadata": {},
   "outputs": [],
   "source": [
    "# clear cache from the session\n",
    "del documents\n",
    "del scotus_filings\n",
    "del courtlistener_opinions\n",
    "del scotus_case_concise\n",
    "del harvard_caselaw\n",
    "del project_oyez"
   ]
  },
  {
   "cell_type": "markdown",
   "metadata": {},
   "source": [
    "Upload to database"
   ]
  },
  {
   "cell_type": "code",
   "execution_count": 32,
   "metadata": {},
   "outputs": [
    {
     "name": "stderr",
     "output_type": "stream",
     "text": [
      "100%|██████████| 139/139 [8:35:25<00:00, 222.49s/it]  \n"
     ]
    }
   ],
   "source": [
    "from tqdm import tqdm\n",
    "# Add the chunked documents to the Chroma database\n",
    "limit = 100000 # limit to 100000 documents\n",
    "failed = []\n",
    "step_len = 5000\n",
    "for i in tqdm(range(0, len(chunked_documents), step_len)):\n",
    "    try:\n",
    "        vector_store.add_documents(\n",
    "            documents=chunked_documents[i:i+step_len],\n",
    "            uuids=uuids[i:i+step_len],\n",
    "            )\n",
    "    except Exception as e:\n",
    "        print(f\"Failed to add documents {i} to {i+step_len} to the Chroma database: {e}\")\n",
    "        failed.append(i)\n"
   ]
  },
  {
   "cell_type": "markdown",
   "metadata": {},
   "source": [
    "Test connection, make sure chromadb is running on port 5000"
   ]
  },
  {
   "cell_type": "code",
   "execution_count": 9,
   "metadata": {},
   "outputs": [
    {
     "name": "stdout",
     "output_type": "stream",
     "text": [
      "['full_collection']\n",
      "['test_collection']\n"
     ]
    }
   ],
   "source": [
    "import chromadb\n",
    "\n",
    "client = chromadb.PersistentClient(path=\"./database\")\n",
    "print(client.list_collections())\n",
    "client = chromadb.HttpClient(host=\"localhost\", port=5000)\n",
    "# List available collections\n",
    "print(client.list_collections())"
   ]
  },
  {
   "cell_type": "code",
   "execution_count": 2,
   "metadata": {},
   "outputs": [
    {
     "name": "stdout",
     "output_type": "stream",
     "text": [
      "690719\n"
     ]
    }
   ],
   "source": [
    "collection = client.get_collection('full_collection')\n",
    "print(collection.count())"
   ]
  },
  {
   "cell_type": "markdown",
   "metadata": {},
   "source": [
    "Query results"
   ]
  },
  {
   "cell_type": "code",
   "execution_count": 35,
   "metadata": {},
   "outputs": [
    {
     "name": "stdout",
     "output_type": "stream",
     "text": [
      "Query: Can police search my phone?\n",
      "\n",
      "Result 0: a\n",
      "\n",
      "Modern cell phones are not just another technological con-\n",
      "venience. With all they contain and all they may reveal, they\n",
      "hold for many Americans “the privacies of life[.]” The fact\n",
      "that technology now allows an individual to carry such\n",
      "information in his hand does not make the information any\n",
      "less worthy of the protection for which the Founders fought.\n",
      "Our answer to the question of what police must do before\n",
      "searching a cell phone seized incident to an arrest is accord-\n",
      "ingly simple—get a warrant,\n",
      "Id, at 2494-95,\n",
      "---\n",
      "Metadata: {'dataset': 'harvard_caselaw', 'jurisdictions': 'South Carolina', 'state': 'South Carolina', 'term': '2018-2018', 'url': 'https://static.case.law/sc/421.pdf'}\n",
      "\n",
      "\n",
      "Result 1: Well, you could say the same thing about a cigarette pack that -- that has cocaine in it.\n",
      "Or a gun.\n",
      "Or -- or a gun.\n",
      "And the police may seize and examine those containers--\n",
      "Right.\n",
      "--to see whether or not.\n",
      "And why not the phone.\n",
      "That's exactly the question.\n",
      "Because--\n",
      "Do you have a reasonable -- our rule has been if you carry it on your person, you ought to know it is subject to seizure and examination, and that's been the rule.\n",
      "--It's the scope of examination that we -- that is at issue with a cell phone.\n",
      "A cell phone is fundamentally different from a cigarette pack.\n",
      "You can open the cigarette pack, you see whether or not there is something that is subject to destruction.\n",
      "But whether there's--\n",
      "And you can open the cell phone and see whatever's in it.\n",
      "So if you carry around a cell phone that isn't encrypted or whatever, you know, you -- you -- you get what you -- what you should have expected.\n",
      "That's -- that's been the rule.\n",
      "If you are arrested, we -- we can seize it and examine it.\n",
      "---\n",
      "Metadata: {'conclusion': 'Yes. Chief Justice John G. Roberts, Jr. wrote the opinion for the unanimous Court. The Court held that the warrantless search exception following an arrest exists for the purposes of protecting officer safety and preserving evidence, neither of which is at issue in the search of digital data. The digital data cannot be used as a weapon to harm an arresting officer, and police officers have the ability to preserve evidence while awaiting a warrant by disconnecting the phone from the network and placing the phone in a \"Faraday bag.\" The Court characterized cell phones as minicomputers filled with massive amounts of private information, which distinguished them from the traditional items that can be seized from an arrestee\\'s person, such as a wallet. The Court also held that information accessible via the phone but stored using \"cloud computing\" is not even \"on the arrestee\\'s person.\" Nonetheless, the Court held that some warrantless searches of cell phones might be permitted in an emergency: when the government\\'s interests are so compelling that a search would be reasonable.\\nJustice Samuel A. Alito, Jr. wrote an opinion concurring in part and concurring in the judgment in which he expressed doubt that the warrantless search exception following an arrest exists for the sole or primary purposes of protecting officer safety and preserving evidence. In light of the privacy interests at stake, however, he agreed that the majority\\'s conclusion was the best solution. Justice Alito also suggested that the legislature enact laws that draw reasonable distinctions regarding when and what information within a phone can be reasonably searched following an arrest.\\nLearn more about the Roberts Court and the Fourth Amendment in Shifting Scales, a nonpartisan Oyez resource.\\n', 'dataset': 'project_oyez', 'description': \"A case in which the Court found that the San Diego Police Department's search of an arrested gang member's cell phone pictures without a warrant violated the Fourth Amendment.\", 'facts_of_the_case': \"David Leon Riley belonged to the Lincoln Park gang of San Diego, California. On August 2, 2009, he and others opened fire on a rival gang member driving past them. The shooters then got into Riley's Oldsmobile and drove away. On August 22, 2009, the police pulled Riley over driving a different car; he was driving on expired license registration tags. Because Riley's driver's license was suspended, police policy required that the car be impounded. Before a car is impounded, police are required to perform an inventory search to confirm that the vehicle has all its components at the time of seizure, to protect against liability claims in the future, and to discover hidden contraband. During the search, police located two guns and subsequently arrested Riley for possession of the firearms. Riley had his cell phone in his pocket when he was arrested, so a gang unit detective analyzed videos and photographs of Riley making gang signs and other gang indicia that were stored on the phone to determine whether Riley was gang affiliated. Riley was subsequently tied to the shooting on August 2 via ballistics tests, and separate charges were brought to include shooting at an occupied vehicle, attempted murder, and assault with a semi-automatic firearm.\\nBefore trial, Riley moved to suppress the evidence regarding his gang affiliation that had been acquired through his cell phone. His motion was denied. At trial, a gang expert testified to Riley's membership in the Lincoln Park gang, the rivalry between the gangs involved, and why the shooting could have been gang-related. The jury convicted Riley on all three counts and sentenced to fifteen years to life in prison. The California Court of Appeal, Fourth District, Division 1, affirmed.\\n\", 'id': 62258, 'name': 'Riley v. California', 'question': \"Was the evidence admitted at trial from Riley's cell phone discovered through a search that violated his Fourth Amendment right to be free from unreasonable searches?\\n\"}\n",
      "\n",
      "\n",
      "Result 2: --I think it would depend on -- whether they keep that information, it would depend on what kind of plan you have.\n",
      "Well, what are we dealing with here?\n",
      "I know everybody wants to talk about global issues, but what -- what are the -- what information are we talking about in this case?\n",
      "We have my home, which you said is in plain view, my house, and then you have the call log.\n",
      "What else do we have?\n",
      "That is all that was accessed.\n",
      "We're talking about the phone number that allowed the police to get to a particular premises.\n",
      "Well, if the call log, the numbers called, is not covered by a reasonable expectation of privacy, and my house is not covered by a reasonable expectation of privacy, then where is the search?\n",
      "It -- the search is in opening the phone itself, which is covered by a reasonable expectation of privacy.\n",
      "No, they could--\n",
      "And you could do that and look for a razor blade?\n",
      "You could -- you are then--\n",
      "Flip open the old style flip-phone to see if there's something inside?\n",
      "---\n",
      "Metadata: {'conclusion': 'Yes. Chief Justice John G. Roberts, Jr. wrote the opinion for the unanimous Court. The Court held that the warrantless search exception following an arrest exists for the purposes of protecting officer safety and preserving evidence, neither of which is at issue in the search of digital data. The digital data cannot be used as a weapon to harm an arresting officer, and police officers have the ability to preserve evidence while awaiting a warrant by disconnecting the phone from the network and placing the phone in a \"Faraday bag.\" The Court characterized cell phones as minicomputers filled with massive amounts of private information, which distinguished them from the traditional items that can be seized from an arrestee\\'s person, such as a wallet. The Court also held that information accessible via the phone but stored using \"cloud computing\" is not even \"on the arrestee\\'s person.\" Nonetheless, the Court held that some warrantless searches of cell phones might be permitted in an emergency: when the government\\'s interests are so compelling that a search would be reasonable.\\nJustice Samuel A. Alito, Jr. wrote an opinion concurring in part and concurring in the judgment in which he expressed doubt that the warrantless search exception following an arrest exists for the sole or primary purposes of protecting officer safety and preserving evidence. In light of the privacy interests at stake, however, he agreed that the majority\\'s conclusion was the best solution. Justice Alito also suggested that the legislature enact laws that draw reasonable distinctions regarding when and what information within a phone can be reasonably searched following an arrest.\\nLearn more about the Roberts Court and the Fourth Amendment in Shifting Scales, a nonpartisan Oyez resource.\\n', 'dataset': 'project_oyez', 'description': \"A case in which the Court found that the San Diego Police Department's search of an arrested gang member's cell phone pictures without a warrant violated the Fourth Amendment.\", 'facts_of_the_case': \"David Leon Riley belonged to the Lincoln Park gang of San Diego, California. On August 2, 2009, he and others opened fire on a rival gang member driving past them. The shooters then got into Riley's Oldsmobile and drove away. On August 22, 2009, the police pulled Riley over driving a different car; he was driving on expired license registration tags. Because Riley's driver's license was suspended, police policy required that the car be impounded. Before a car is impounded, police are required to perform an inventory search to confirm that the vehicle has all its components at the time of seizure, to protect against liability claims in the future, and to discover hidden contraband. During the search, police located two guns and subsequently arrested Riley for possession of the firearms. Riley had his cell phone in his pocket when he was arrested, so a gang unit detective analyzed videos and photographs of Riley making gang signs and other gang indicia that were stored on the phone to determine whether Riley was gang affiliated. Riley was subsequently tied to the shooting on August 2 via ballistics tests, and separate charges were brought to include shooting at an occupied vehicle, attempted murder, and assault with a semi-automatic firearm.\\nBefore trial, Riley moved to suppress the evidence regarding his gang affiliation that had been acquired through his cell phone. His motion was denied. At trial, a gang expert testified to Riley's membership in the Lincoln Park gang, the rivalry between the gangs involved, and why the shooting could have been gang-related. The jury convicted Riley on all three counts and sentenced to fifteen years to life in prison. The California Court of Appeal, Fourth District, Division 1, affirmed.\\n\", 'id': 62258, 'name': 'Riley v. California', 'question': \"Was the evidence admitted at trial from Riley's cell phone discovered through a search that violated his Fourth Amendment right to be free from unreasonable searches?\\n\"}\n",
      "\n",
      "\n",
      "Result 3: analysis should focus on the information searched, and instead\n",
      "\n",
      "should focus on what information could have been searched.\n",
      "\n",
      "The SIM card contained more than simply the cell phone’s\n",
      "\n",
      "number, and police could have accessed that information dur-\n",
      "\n",
      "ing their search. As Chief Justice Roberts noted in Riley,\n",
      "a cell phone search would typically expose to the govern-\n",
      "ment far more than the most exhaustive search of a house:\n",
      "A phone not only contains in digital form many sensitive\n",
      "records previously found in the home, it also contains a\n",
      "broad array of private information never found in a home in\n",
      "any form—uniless the phone is.\n",
      "\n",
      "Id. at 2491.\n",
      "---\n",
      "Metadata: {'dataset': 'harvard_caselaw', 'jurisdictions': 'South Carolina', 'state': 'South Carolina', 'term': '2018-2018', 'url': 'https://static.case.law/sc/421.pdf'}\n",
      "\n",
      "\n",
      "Result 4: against a child to the offender x99s cell phone, police may nevertheless obtain a\n",
      "warrant to search the phone based on the x9ccommonsense belief that child sex\n",
      "offenders use their cell phones in the execution of such offenses.\n",
      "-13-\n",
      "---\n",
      "Metadata: {'dataset': 'scotus_filings', 'url': 'http://www.supremecourt.gov/DocketPDF/21/21-5312/186917/20210810144104284_20210810-143351-00001409-00004636.pdf'}\n",
      "\n",
      "\n"
     ]
    }
   ],
   "source": [
    "# Query the Chroma database \n",
    "query = \"Can police search my phone?\"\n",
    "results = vector_store.similarity_search(query, k=5)\n",
    "print(f\"Query: {query}\\n\")\n",
    "for i, result in enumerate(results):\n",
    "    print(f\"Result {i}: {result.page_content}\\n---\\nMetadata: {result.metadata}\\n\")\n",
    "    print()"
   ]
  }
 ],
 "metadata": {
  "kernelspec": {
   "display_name": "gptenv",
   "language": "python",
   "name": "python3"
  },
  "language_info": {
   "codemirror_mode": {
    "name": "ipython",
    "version": 3
   },
   "file_extension": ".py",
   "mimetype": "text/x-python",
   "name": "python",
   "nbconvert_exporter": "python",
   "pygments_lexer": "ipython3",
   "version": "3.12.7"
  }
 },
 "nbformat": 4,
 "nbformat_minor": 2
}
