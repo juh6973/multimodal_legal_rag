{
 "cells": [
  {
   "cell_type": "markdown",
   "metadata": {},
   "source": [
    "# Caselaw Access Project\n",
    "The project contains 360 years of US caselaw and is maintained by Harvard law school. The project can be accessed [here](https://case.law/).\n",
    "\n",
    "The data used in this project is just a subsample of latest caselaw for each state."
   ]
  },
  {
   "cell_type": "markdown",
   "metadata": {},
   "source": [
    "## Import libraries"
   ]
  },
  {
   "cell_type": "code",
   "execution_count": 1,
   "metadata": {},
   "outputs": [],
   "source": [
    "import re\n",
    "import requests\n",
    "import pandas as pd\n",
    "from bs4 import BeautifulSoup\n",
    "import time"
   ]
  },
  {
   "cell_type": "markdown",
   "metadata": {},
   "source": [
    "## Data\n",
    "Get state addverbs"
   ]
  },
  {
   "cell_type": "code",
   "execution_count": 2,
   "metadata": {},
   "outputs": [],
   "source": [
    "state_addverbs = {\n",
    "    'Alabama': 'ala',\n",
    "    'Alaska': 'alaska',\n",
    "    'Arizona': 'ariz',\n",
    "    'Arkansas': 'ark',\n",
    "    'California': 'cal',\n",
    "    'Colorado': 'colo',\n",
    "    'Connecticut': 'conn',\n",
    "    'Delaware': 'del',\n",
    "    'Florida': 'fla',\n",
    "    'Georgia': 'ga',\n",
    "    'Hawaii': 'haw',\n",
    "    'Idaho': 'idaho',\n",
    "    'Illinois': 'ill',\n",
    "    'Indiana': 'ind',\n",
    "    'Iowa': 'iowa',\n",
    "    'Kansas': 'kan',\n",
    "    'Kentucky': 'ky',\n",
    "    'Louisiana': 'la',\n",
    "    'Maine': 'me',\n",
    "    'Maryland': 'md',\n",
    "    'Massachusetts': 'mass',\n",
    "    'Michigan': 'mich',\n",
    "    'Minnesota': 'minn',\n",
    "    'Mississippi': 'miss',\n",
    "    'Missouri': 'mo',\n",
    "    'Montana': 'mont',\n",
    "    'Nebraska': 'neb',\n",
    "    'Nevada': 'nev',\n",
    "    'New Hampshire': 'nh',\n",
    "    'New Jersey': 'nj',\n",
    "    'New Mexico': 'nm',\n",
    "    'New York': 'ny',\n",
    "    'North Carolina': 'nc',\n",
    "    'North Dakota': 'nd',\n",
    "    'Ohio': 'ohio',\n",
    "    'Oklahoma': 'okla',\n",
    "    'Oregon': 'or',\n",
    "    'Pennsylvania': 'pa',\n",
    "    'Rhode Island': 'ri',\n",
    "    'South Carolina': 'sc',\n",
    "    'South Dakota': 'sd',\n",
    "    'Tennessee': 'tenn',\n",
    "    'Texas': 'tex',\n",
    "    'Utah': 'utah',\n",
    "    'Vermont': 'vt',\n",
    "    'Virginia': 'va',\n",
    "    'Washington': 'wash',\n",
    "    'West Virginia': 'w-va',\n",
    "    'Wisconsin': 'wis',\n",
    "    'Wyoming': 'wyo'\n",
    "}"
   ]
  },
  {
   "cell_type": "markdown",
   "metadata": {},
   "source": [
    "Method for getting the latest data volume"
   ]
  },
  {
   "cell_type": "code",
   "execution_count": 3,
   "metadata": {},
   "outputs": [],
   "source": [
    "def get_latest_volume(url: str) -> int:\n",
    "    \"\"\"Get the number of latest volume.\"\"\"\n",
    "    response = requests.get(url)\n",
    "    soup = BeautifulSoup(response.text, 'html.parser')\n",
    "\n",
    "    for link in soup.find_all('a')[::-1]:\n",
    "        href = link.get('href')\n",
    "        if href.endswith(\".pdf\"): return re.search(r'/(\\d+)\\.pdf$', href).group(1)"
   ]
  },
  {
   "cell_type": "markdown",
   "metadata": {},
   "source": [
    "Get the latest caselaw pdfs and metadata for each state"
   ]
  },
  {
   "cell_type": "code",
   "execution_count": 4,
   "metadata": {},
   "outputs": [
    {
     "name": "stdout",
     "output_type": "stream",
     "text": [
      "Fetched latest caselaw document(s) for Alabama\n",
      "Fetched latest caselaw document(s) for Alaska\n",
      "Fetched latest caselaw document(s) for Arizona\n",
      "Fetched latest caselaw document(s) for Arkansas\n",
      "Fetched latest caselaw document(s) for California\n",
      "Fetched latest caselaw document(s) for Colorado\n",
      "Fetched latest caselaw document(s) for Connecticut\n",
      "Fetched latest caselaw document(s) for Delaware\n",
      "Fetched latest caselaw document(s) for Florida\n",
      "Fetched latest caselaw document(s) for Georgia\n",
      "Fetched latest caselaw document(s) for Hawaii\n",
      "Fetched latest caselaw document(s) for Idaho\n",
      "Fetched latest caselaw document(s) for Illinois\n",
      "Fetched latest caselaw document(s) for Indiana\n",
      "Fetched latest caselaw document(s) for Iowa\n",
      "Fetched latest caselaw document(s) for Kansas\n",
      "Fetched latest caselaw document(s) for Kentucky\n",
      "Fetched latest caselaw document(s) for Louisiana\n",
      "Fetched latest caselaw document(s) for Maine\n",
      "Fetched latest caselaw document(s) for Maryland\n",
      "Fetched latest caselaw document(s) for Massachusetts\n",
      "Fetched latest caselaw document(s) for Michigan\n",
      "Fetched latest caselaw document(s) for Minnesota\n",
      "Fetched latest caselaw document(s) for Mississippi\n",
      "Fetched latest caselaw document(s) for Missouri\n",
      "Fetched latest caselaw document(s) for Montana\n",
      "Fetched latest caselaw document(s) for Nebraska\n",
      "Fetched latest caselaw document(s) for Nevada\n",
      "Fetched latest caselaw document(s) for New Hampshire\n",
      "Fetched latest caselaw document(s) for New Jersey\n",
      "Fetched latest caselaw document(s) for New Mexico\n",
      "Fetched latest caselaw document(s) for New York\n",
      "Fetched latest caselaw document(s) for North Carolina\n",
      "Fetched latest caselaw document(s) for North Dakota\n",
      "Fetched latest caselaw document(s) for Ohio\n",
      "Fetched latest caselaw document(s) for Oklahoma\n",
      "Fetched latest caselaw document(s) for Oregon\n",
      "Fetched latest caselaw document(s) for Pennsylvania\n",
      "Fetched latest caselaw document(s) for Rhode Island\n",
      "Fetched latest caselaw document(s) for South Carolina\n",
      "Fetched latest caselaw document(s) for South Dakota\n",
      "Fetched latest caselaw document(s) for Tennessee\n",
      "Fetched latest caselaw document(s) for Texas\n",
      "Fetched latest caselaw document(s) for Utah\n",
      "Fetched latest caselaw document(s) for Vermont\n",
      "Fetched latest caselaw document(s) for Virginia\n",
      "Fetched latest caselaw document(s) for Washington\n",
      "Fetched latest caselaw document(s) for West Virginia\n",
      "Fetched latest caselaw document(s) for Wisconsin\n",
      "Fetched latest caselaw document(s) for Wyoming\n"
     ]
    }
   ],
   "source": [
    "df = []\n",
    "base_url = \"https://static.case.law\"\n",
    "for state, addverb in state_addverbs.items():\n",
    "    state_url = f\"{base_url}/{addverb}/\"\n",
    "    latest_volume = get_latest_volume(state_url)\n",
    "    pdf_url = f\"{state_url}{latest_volume}.pdf\"\n",
    "    metadata_url = f\"{state_url}{latest_volume}/VolumeMetadata.json\"\n",
    "\n",
    "    metadata = requests.get(metadata_url)\n",
    "    metadata.raise_for_status()\n",
    "    metadata = metadata.json()\n",
    "    \n",
    "    term = f\"{metadata['start_year']}-{metadata['end_year']}\"\n",
    "    jurisdictions = \",\".join([j[\"name_long\"] for j in metadata[\"jurisdictions\"]])\n",
    "\n",
    "    df.append({\n",
    "        \"state\": state,\n",
    "        \"volume_number\": latest_volume,\n",
    "        \"pdf_url\": pdf_url,\n",
    "        \"term\": term,\n",
    "        \"jurisdictions\": jurisdictions,\n",
    "    })\n",
    "    print(f\"Fetched latest caselaw document(s) for {state}\")\n",
    "    time.sleep(0.5)"
   ]
  },
  {
   "cell_type": "markdown",
   "metadata": {},
   "source": [
    "Convert dataframe into `pd.DataFrame`"
   ]
  },
  {
   "cell_type": "code",
   "execution_count": 5,
   "metadata": {},
   "outputs": [
    {
     "data": {
      "text/html": [
       "<div>\n",
       "<style scoped>\n",
       "    .dataframe tbody tr th:only-of-type {\n",
       "        vertical-align: middle;\n",
       "    }\n",
       "\n",
       "    .dataframe tbody tr th {\n",
       "        vertical-align: top;\n",
       "    }\n",
       "\n",
       "    .dataframe thead th {\n",
       "        text-align: right;\n",
       "    }\n",
       "</style>\n",
       "<table border=\"1\" class=\"dataframe\">\n",
       "  <thead>\n",
       "    <tr style=\"text-align: right;\">\n",
       "      <th></th>\n",
       "      <th>state</th>\n",
       "      <th>volume_number</th>\n",
       "      <th>pdf_url</th>\n",
       "      <th>term</th>\n",
       "      <th>jurisdictions</th>\n",
       "    </tr>\n",
       "  </thead>\n",
       "  <tbody>\n",
       "    <tr>\n",
       "      <th>0</th>\n",
       "      <td>Alabama</td>\n",
       "      <td>295</td>\n",
       "      <td>https://static.case.law/ala/295.pdf</td>\n",
       "      <td>1975-1975</td>\n",
       "      <td>Alabama</td>\n",
       "    </tr>\n",
       "    <tr>\n",
       "      <th>1</th>\n",
       "      <td>Alaska</td>\n",
       "      <td>17</td>\n",
       "      <td>https://static.case.law/alaska/17.pdf</td>\n",
       "      <td>1957-1958</td>\n",
       "      <td>Alaska</td>\n",
       "    </tr>\n",
       "    <tr>\n",
       "      <th>2</th>\n",
       "      <td>Arizona</td>\n",
       "      <td>242</td>\n",
       "      <td>https://static.case.law/ariz/242.pdf</td>\n",
       "      <td>2017-2017</td>\n",
       "      <td>Arizona</td>\n",
       "    </tr>\n",
       "    <tr>\n",
       "      <th>3</th>\n",
       "      <td>Arkansas</td>\n",
       "      <td>375</td>\n",
       "      <td>https://static.case.law/ark/375.pdf</td>\n",
       "      <td>2008-2009</td>\n",
       "      <td>Arkansas</td>\n",
       "    </tr>\n",
       "    <tr>\n",
       "      <th>4</th>\n",
       "      <td>California</td>\n",
       "      <td>220</td>\n",
       "      <td>https://static.case.law/cal/220.pdf</td>\n",
       "      <td>1934-1934</td>\n",
       "      <td>California</td>\n",
       "    </tr>\n",
       "  </tbody>\n",
       "</table>\n",
       "</div>"
      ],
      "text/plain": [
       "        state volume_number                                pdf_url       term  \\\n",
       "0     Alabama           295    https://static.case.law/ala/295.pdf  1975-1975   \n",
       "1      Alaska            17  https://static.case.law/alaska/17.pdf  1957-1958   \n",
       "2     Arizona           242   https://static.case.law/ariz/242.pdf  2017-2017   \n",
       "3    Arkansas           375    https://static.case.law/ark/375.pdf  2008-2009   \n",
       "4  California           220    https://static.case.law/cal/220.pdf  1934-1934   \n",
       "\n",
       "  jurisdictions  \n",
       "0       Alabama  \n",
       "1        Alaska  \n",
       "2       Arizona  \n",
       "3      Arkansas  \n",
       "4    California  "
      ]
     },
     "execution_count": 5,
     "metadata": {},
     "output_type": "execute_result"
    }
   ],
   "source": [
    "df = pd.DataFrame(df)\n",
    "df.head()"
   ]
  },
  {
   "cell_type": "markdown",
   "metadata": {},
   "source": [
    "save the data"
   ]
  },
  {
   "cell_type": "code",
   "execution_count": 6,
   "metadata": {},
   "outputs": [],
   "source": [
    "save_path = \"./data/caselaw_data.csv\"\n",
    "df.to_csv(save_path, index=False)"
   ]
  }
 ],
 "metadata": {
  "kernelspec": {
   "display_name": "legal-rag",
   "language": "python",
   "name": "python3"
  },
  "language_info": {
   "codemirror_mode": {
    "name": "ipython",
    "version": 3
   },
   "file_extension": ".py",
   "mimetype": "text/x-python",
   "name": "python",
   "nbconvert_exporter": "python",
   "pygments_lexer": "ipython3",
   "version": "3.9.21"
  }
 },
 "nbformat": 4,
 "nbformat_minor": 2
}
