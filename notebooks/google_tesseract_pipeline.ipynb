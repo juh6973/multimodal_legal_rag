{
 "cells": [
  {
   "cell_type": "markdown",
   "metadata": {},
   "source": [
    "# OCR with Google Tesseract\n",
    "Reading legal PDFs with OCR"
   ]
  },
  {
   "cell_type": "markdown",
   "metadata": {},
   "source": [
    "## Import libraries\n",
    "Install dependencies"
   ]
  },
  {
   "cell_type": "code",
   "execution_count": 1,
   "metadata": {
    "vscode": {
     "languageId": "shellscript"
    }
   },
   "outputs": [],
   "source": [
    "#!pip install pytesseract pdf2image"
   ]
  },
  {
   "cell_type": "markdown",
   "metadata": {},
   "source": [
    "Import libraries"
   ]
  },
  {
   "cell_type": "code",
   "execution_count": 13,
   "metadata": {},
   "outputs": [],
   "source": [
    "import requests\n",
    "from pdf2image import convert_from_bytes\n",
    "import pytesseract\n",
    "import pandas as pd"
   ]
  },
  {
   "cell_type": "markdown",
   "metadata": {},
   "source": [
    "## Data\n",
    "Get caselaw data containing pdf URLs"
   ]
  },
  {
   "cell_type": "code",
   "execution_count": 3,
   "metadata": {},
   "outputs": [],
   "source": [
    "data_path = \"./data/caselaw_data.csv\"\n",
    "df = pd.read_csv(data_path)"
   ]
  },
  {
   "cell_type": "markdown",
   "metadata": {},
   "source": [
    "A method for reading the PDF from URL"
   ]
  },
  {
   "cell_type": "code",
   "execution_count": 4,
   "metadata": {},
   "outputs": [],
   "source": [
    "def get_pdf(url: str) -> bytes:\n",
    "    \"\"\"Fetches PDF based on URL.\"\"\"\n",
    "    response = requests.get(url)\n",
    "    response.raise_for_status()\n",
    "    \n",
    "    return response.content"
   ]
  },
  {
   "cell_type": "markdown",
   "metadata": {},
   "source": [
    "## Perform OCR\n",
    "A method for converting PDF to images"
   ]
  },
  {
   "cell_type": "code",
   "execution_count": 5,
   "metadata": {},
   "outputs": [],
   "source": [
    "def pdf2image(pdf_path: str, dpi=150) -> list: return convert_from_bytes(pdf_path, dpi)"
   ]
  },
  {
   "cell_type": "markdown",
   "metadata": {},
   "source": [
    "A method for converting images into text"
   ]
  },
  {
   "cell_type": "code",
   "execution_count": 6,
   "metadata": {},
   "outputs": [],
   "source": [
    "def images2text(images: list, verbose=False) -> str:\n",
    "    \"\"\"Converts images into text with Google's Tesseract.\"\"\"\n",
    "    pages_text = []\n",
    "    for page_number, img in enumerate(images, start=1):\n",
    "        text = pytesseract.image_to_string(img)\n",
    "        pages_text.append(text)\n",
    "        if verbose: print(f\"Processed page {page_number}\")\n",
    "\n",
    "    return \"\\n\".join(pages_text)"
   ]
  },
  {
   "cell_type": "markdown",
   "metadata": {},
   "source": [
    "Extract text from PDFs"
   ]
  },
  {
   "cell_type": "code",
   "execution_count": 7,
   "metadata": {},
   "outputs": [
    {
     "name": "stdout",
     "output_type": "stream",
     "text": [
      "(1/50) Processed pdf: https://static.case.law/ala/295.pdf\n",
      "(2/50) Processed pdf: https://static.case.law/alaska/17.pdf\n",
      "(3/50) Processed pdf: https://static.case.law/ariz/242.pdf\n",
      "(4/50) Processed pdf: https://static.case.law/ark/375.pdf\n",
      "(5/50) Processed pdf: https://static.case.law/cal/220.pdf\n",
      "(6/50) Processed pdf: https://static.case.law/colo/200.pdf\n",
      "(7/50) Processed pdf: https://static.case.law/conn/303.pdf\n",
      "(8/50) Processed pdf: https://static.case.law/del/59.pdf\n",
      "(9/50) Processed pdf: https://static.case.law/fla/160.pdf\n",
      "(10/50) Processed pdf: https://static.case.law/ga/302.pdf\n",
      "(11/50) Processed pdf: https://static.case.law/haw/140.pdf\n",
      "(12/50) Processed pdf: https://static.case.law/idaho/162.pdf\n",
      "(13/50) Processed pdf: https://static.case.law/ill/415.pdf\n",
      "(14/50) Processed pdf: https://static.case.law/ind/275.pdf\n",
      "(15/50) Processed pdf: https://static.case.law/iowa/261.pdf\n",
      "(16/50) Processed pdf: https://static.case.law/kan/304.pdf\n",
      "(17/50) Processed pdf: https://static.case.law/ky/314.pdf\n",
      "(18/50) Processed pdf: https://static.case.law/la/263.pdf\n",
      "(19/50) Processed pdf: https://static.case.law/me/161.pdf\n",
      "(20/50) Processed pdf: https://static.case.law/md/456.pdf\n",
      "(21/50) Processed pdf: https://static.case.law/mass/477.pdf\n",
      "(22/50) Processed pdf: https://static.case.law/mich/499.pdf\n",
      "(23/50) Processed pdf: https://static.case.law/minn/312.pdf\n",
      "(24/50) Processed pdf: https://static.case.law/miss/254.pdf\n",
      "(25/50) Processed pdf: https://static.case.law/mo/365.pdf\n",
      "(26/50) Processed pdf: https://static.case.law/mont/389.pdf\n",
      "(27/50) Processed pdf: https://static.case.law/neb/274.pdf\n",
      "(28/50) Processed pdf: https://static.case.law/nev/129.pdf\n",
      "(29/50) Processed pdf: https://static.case.law/nh/169.pdf\n",
      "(30/50) Processed pdf: https://static.case.law/nj/231.pdf\n",
      "(31/50) Processed pdf: https://static.case.law/nm/150.pdf\n",
      "(32/50) Processed pdf: https://static.case.law/ny/309.pdf\n",
      "(33/50) Processed pdf: https://static.case.law/nc/369.pdf\n",
      "(34/50) Processed pdf: https://static.case.law/nd/79.pdf\n",
      "(35/50) Processed pdf: https://static.case.law/ohio/20.pdf\n",
      "(36/50) Processed pdf: https://static.case.law/okla/208.pdf\n",
      "(37/50) Processed pdf: https://static.case.law/or/360.pdf\n",
      "(38/50) Processed pdf: https://static.case.law/pa/639.pdf\n",
      "(39/50) Processed pdf: https://static.case.law/ri/122.pdf\n",
      "(40/50) Processed pdf: https://static.case.law/sc/421.pdf\n",
      "(41/50) Processed pdf: https://static.case.law/sd/90.pdf\n",
      "(42/50) Processed pdf: https://static.case.law/tenn/225.pdf\n",
      "(43/50) Processed pdf: https://static.case.law/tex/163.pdf\n",
      "(44/50) Processed pdf: https://static.case.law/utah/123.pdf\n",
      "(45/50) Processed pdf: https://static.case.law/vt/203.pdf\n",
      "(46/50) Processed pdf: https://static.case.law/va/267.pdf\n",
      "(47/50) Processed pdf: https://static.case.law/wash/200.pdf\n",
      "(48/50) Processed pdf: https://static.case.law/w-va/239.pdf\n",
      "(49/50) Processed pdf: https://static.case.law/wis/275.pdf\n",
      "(50/50) Processed pdf: https://static.case.law/wyo/80.pdf\n"
     ]
    }
   ],
   "source": [
    "document_texts = []\n",
    "for idx, pdf_url in enumerate(df[\"pdf_url\"], start=1):\n",
    "    pdf = get_pdf(pdf_url)\n",
    "    images = pdf2image(pdf)\n",
    "    text = images2text(images)\n",
    "    document_texts.append(text)\n",
    "    print(f\"({idx}/{len(df)}) Processed pdf: {pdf_url}\")"
   ]
  },
  {
   "cell_type": "markdown",
   "metadata": {},
   "source": [
    "Store the text into dataframe"
   ]
  },
  {
   "cell_type": "code",
   "execution_count": 8,
   "metadata": {},
   "outputs": [],
   "source": [
    "df[\"text\"] = document_texts"
   ]
  },
  {
   "cell_type": "markdown",
   "metadata": {},
   "source": [
    "Save the dataframe locally"
   ]
  },
  {
   "cell_type": "code",
   "execution_count": 9,
   "metadata": {},
   "outputs": [],
   "source": [
    "data_path = \"./data/caselaw_data_text.csv\"\n",
    "df.to_csv(data_path, index=False)"
   ]
  },
  {
   "cell_type": "markdown",
   "metadata": {},
   "source": [
    "## Save the dataset into Hugging Face\n",
    "Login to HuggingFace (run `huggingface-cli login` with HuggingFace client)"
   ]
  },
  {
   "cell_type": "markdown",
   "metadata": {},
   "source": [
    "Convert `pd.DataFrame` into HuggingFace `Dataset`"
   ]
  },
  {
   "cell_type": "code",
   "execution_count": 14,
   "metadata": {},
   "outputs": [],
   "source": [
    "from datasets import Dataset\n",
    "\n",
    "dataset = Dataset.from_pandas(df)"
   ]
  },
  {
   "cell_type": "markdown",
   "metadata": {},
   "source": [
    "Push to hub"
   ]
  },
  {
   "cell_type": "code",
   "execution_count": 15,
   "metadata": {},
   "outputs": [
    {
     "data": {
      "application/vnd.jupyter.widget-view+json": {
       "model_id": "4cb598815b5b45a4a0b79aa9c51ac296",
       "version_major": 2,
       "version_minor": 0
      },
      "text/plain": [
       "Uploading the dataset shards:   0%|          | 0/1 [00:00<?, ?it/s]"
      ]
     },
     "metadata": {},
     "output_type": "display_data"
    },
    {
     "data": {
      "application/vnd.jupyter.widget-view+json": {
       "model_id": "c1c02d56293642a389051dac43d267f9",
       "version_major": 2,
       "version_minor": 0
      },
      "text/plain": [
       "Creating parquet from Arrow format:   0%|          | 0/1 [00:00<?, ?ba/s]"
      ]
     },
     "metadata": {},
     "output_type": "display_data"
    },
    {
     "data": {
      "text/plain": [
       "CommitInfo(commit_url='https://huggingface.co/datasets/Juh6973/caselaw_latest_volumes_by_state/commit/0a345201f1a14c82b2d233263eca50815bc988cf', commit_message='Upload dataset', commit_description='', oid='0a345201f1a14c82b2d233263eca50815bc988cf', pr_url=None, repo_url=RepoUrl('https://huggingface.co/datasets/Juh6973/caselaw_latest_volumes_by_state', endpoint='https://huggingface.co', repo_type='dataset', repo_id='Juh6973/caselaw_latest_volumes_by_state'), pr_revision=None, pr_num=None)"
      ]
     },
     "execution_count": 15,
     "metadata": {},
     "output_type": "execute_result"
    }
   ],
   "source": [
    "username = \"Juh6973\" # Your username here\n",
    "dataset_name = \"caselaw_latest_volumes_by_state\"\n",
    "dataset.push_to_hub(f\"{username}/{dataset_name}\")"
   ]
  },
  {
   "cell_type": "code",
   "execution_count": null,
   "metadata": {},
   "outputs": [],
   "source": []
  }
 ],
 "metadata": {
  "kernelspec": {
   "display_name": "legal-rag",
   "language": "python",
   "name": "python3"
  },
  "language_info": {
   "codemirror_mode": {
    "name": "ipython",
    "version": 3
   },
   "file_extension": ".py",
   "mimetype": "text/x-python",
   "name": "python",
   "nbconvert_exporter": "python",
   "pygments_lexer": "ipython3",
   "version": "3.9.21"
  }
 },
 "nbformat": 4,
 "nbformat_minor": 2
}
